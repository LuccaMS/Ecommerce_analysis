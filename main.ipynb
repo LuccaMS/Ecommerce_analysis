{
 "cells": [
  {
   "cell_type": "markdown",
   "metadata": {},
   "source": [
    "<h3>Estágio em Dados - Itaú Unibanco - Desafio\n",
    "<h3>\n",
    "Código desenvolvido por : Lucca Machado da Silva    "
   ]
  },
  {
   "cell_type": "code",
   "execution_count": null,
   "metadata": {},
   "outputs": [],
   "source": [
    "#Utilizando a biblioteca pandas\n",
    "import pandas as pd\n",
    "import numpy as np\n",
    "import seaborn as sns\n",
    "import matplotlib.pyplot as plt\n",
    "import seaborn as sns\n",
    "import scipy.stats as stats\n",
    "from statsmodels.formula.api import ols\n",
    "import statsmodels.api as sm\n",
    "\n",
    "\n",
    "import warnings\n",
    "warnings.simplefilter(action='ignore', category=(FutureWarning, DeprecationWarning))"
   ]
  },
  {
   "cell_type": "code",
   "execution_count": null,
   "metadata": {},
   "outputs": [],
   "source": [
    "#Carregando o arquivo CSV para um DataFrame\n",
    "df = pd.read_csv('Ecommerce_DBS.csv')"
   ]
  },
  {
   "cell_type": "code",
   "execution_count": null,
   "metadata": {},
   "outputs": [],
   "source": [
    "#Verificando os dados inicais do DataFrame\n",
    "df"
   ]
  },
  {
   "cell_type": "code",
   "execution_count": null,
   "metadata": {},
   "outputs": [],
   "source": [
    "#Obtendo informações gerais sobre o conjunto de dados, através disso é possível verificar que não temos missing values\n",
    "#e os tipos dos dados de cada coluna\n",
    "df.info()"
   ]
  },
  {
   "cell_type": "code",
   "execution_count": null,
   "metadata": {},
   "outputs": [],
   "source": [
    "df.describe()"
   ]
  },
  {
   "cell_type": "code",
   "execution_count": null,
   "metadata": {},
   "outputs": [],
   "source": [
    "#Verificando todas as chaves\n",
    "df.keys()"
   ]
  },
  {
   "cell_type": "code",
   "execution_count": null,
   "metadata": {},
   "outputs": [],
   "source": [
    "#A chave 'Customer Age ' possui um espaço no final, então vamos remover esse espaço para padronizar\n",
    "df.rename(columns={'Customer Age ': 'Customer Age'}, inplace=True)"
   ]
  },
  {
   "cell_type": "code",
   "execution_count": null,
   "metadata": {},
   "outputs": [],
   "source": [
    "#Confirmando que a mudaça foi realizada\n",
    "df.keys()"
   ]
  },
  {
   "cell_type": "code",
   "execution_count": null,
   "metadata": {},
   "outputs": [],
   "source": [
    "#Verificando por duplicatas, neste caso, não possuimos duplicatas para limpar\n",
    "df.duplicated().sum()"
   ]
  },
  {
   "cell_type": "markdown",
   "metadata": {},
   "source": [
    "# Qual os produtos mais vendidos considerando os últimos 3 anos ?"
   ]
  },
  {
   "cell_type": "code",
   "execution_count": null,
   "metadata": {},
   "outputs": [],
   "source": [
    "df_first_answer = df.copy() #Criando uma cópia para responder a prgunta\n",
    "df_first_answer['Purchase Date'] = pd.to_datetime(df_first_answer['Purchase Date'],format='%d/%m/%Y') #Transformando a data de str para datetime\n",
    "df_first_answer = df_first_answer[df_first_answer['Purchase Date'] > '30/05/2021'] #Filtrando para datas maiores que 30/05/2021 (dia da resposta)\n",
    "produtos_vendidos = df_first_answer.groupby('Product Category')['Quantity'].sum() #Agrupando por categoria e somando as quantities"
   ]
  },
  {
   "cell_type": "code",
   "execution_count": null,
   "metadata": {},
   "outputs": [],
   "source": [
    "produtos_vendidos"
   ]
  },
  {
   "cell_type": "code",
   "execution_count": null,
   "metadata": {},
   "outputs": [],
   "source": [
    "total_sales = produtos_vendidos.sum()\n",
    "def autopct_with_amount(pct):\n",
    "    return f\"{pct:.1f}% ({int(pct/100 * total_sales):,})\"  \n",
    "plt.pie(produtos_vendidos, labels=produtos_vendidos.index, autopct=autopct_with_amount, startangle=140)\n",
    "plt.title(\"Distribuição de tipos de produtos vendidos nos últimos 3 anos\")\n",
    "plt.show()"
   ]
  },
  {
   "cell_type": "markdown",
   "metadata": {},
   "source": [
    "Sendo assim, é possível observar que os produtos mais vendidos seguem esta ordem, de maior para menor em vendas respectivamente, Roupas, Livros, Eletrônicos e Produtos para casa"
   ]
  },
  {
   "cell_type": "markdown",
   "metadata": {},
   "source": [
    "# Qual o produto mais caro e o mais barato ?"
   ]
  },
  {
   "cell_type": "code",
   "execution_count": null,
   "metadata": {},
   "outputs": [],
   "source": [
    "df_second_answer = df.copy() #Criando uma cópia para responder a pergunta"
   ]
  },
  {
   "cell_type": "code",
   "execution_count": null,
   "metadata": {},
   "outputs": [],
   "source": [
    "#getting the most expensive 'Product Price' for each product category, the same for the cheaper them creating a df with both\n",
    "most_expensive = df_second_answer.groupby('Product Category')['Product Price'].max()\n",
    "cheaper = df_second_answer.groupby('Product Category')['Product Price'].min()\n",
    "most_expensive = most_expensive.reset_index()\n",
    "cheaper = cheaper.reset_index()\n",
    "most_expensive.rename(columns={'Product Price': 'Mais caro'}, inplace=True)\n",
    "cheaper.rename(columns={'Product Price': 'Mais barato'}, inplace=True)\n",
    "df_second_answer = pd.merge(most_expensive, cheaper, on='Product Category')"
   ]
  },
  {
   "cell_type": "code",
   "execution_count": null,
   "metadata": {},
   "outputs": [],
   "source": [
    "df_second_answer.plot(x='Product Category', kind='bar')\n",
    "plt.title('Produto mais caro e mais barato por categoria')\n",
    "plt.ylabel('Preço')\n",
    "plt.xlabel('Categoria')\n",
    "plt.show()"
   ]
  },
  {
   "cell_type": "markdown",
   "metadata": {},
   "source": [
    "# Qual a categoria de produto mais vendida e a menos vendida? Qual categoria mais e menos cara?"
   ]
  },
  {
   "cell_type": "code",
   "execution_count": null,
   "metadata": {},
   "outputs": [],
   "source": [
    "df_third_answer = df.copy()\n",
    "#getting the amount of sales for each product category\n",
    "sales = df_third_answer.groupby('Product Category')['Quantity'].sum()\n",
    "#Letting just the greatest and lower value in the sales\n",
    "sales = sales.reset_index()\n",
    "sales = sales.sort_values(by='Quantity')\n",
    "sales = sales.reset_index(drop=True)\n",
    "sales = sales.iloc[[0, -1], :]"
   ]
  },
  {
   "cell_type": "code",
   "execution_count": null,
   "metadata": {},
   "outputs": [],
   "source": [
    "sales"
   ]
  },
  {
   "cell_type": "code",
   "execution_count": null,
   "metadata": {},
   "outputs": [],
   "source": [
    "sns.set(style=\"whitegrid\")\n",
    "plt.figure(figsize=(10, 6))\n",
    "plot = sns.barplot(x='Product Category', y='Quantity', data=sales,palette='Set2')\n",
    "\n",
    "for p in plot.patches:\n",
    "    plot.annotate(format(p.get_height(), '.0f'), \n",
    "                      (p.get_x() + p.get_width() / 2., p.get_height()), \n",
    "                      ha = 'center', va = 'center', \n",
    "                      xytext = (0, 9), \n",
    "                      textcoords = 'offset points')\n",
    "    \n",
    "plt.title('Categoria de produto mais e menos vendida')\n",
    "plt.ylabel('Quantidade')\n",
    "plt.xlabel('Categoria')\n",
    "plt.show()"
   ]
  },
  {
   "cell_type": "code",
   "execution_count": null,
   "metadata": {},
   "outputs": [],
   "source": [
    "#Extraindo a mediana de preço de produto por cada categoria\n",
    "median_prices = df_third_answer.groupby('Product Category')['Product Price'].median()\n",
    "\n",
    "#bar plot sns\n",
    "sns.set(style=\"whitegrid\")\n",
    "plt.figure(figsize=(10, 6))\n",
    "\n",
    "plot = sns.barplot(x=median_prices.index, y=median_prices,palette='Set2')\n",
    "\n",
    "for p in plot.patches:\n",
    "    plot.annotate(format(p.get_height(), '.2f'), \n",
    "                      (p.get_x() + p.get_width() / 2., p.get_height()), \n",
    "                      ha = 'center', va = 'center', \n",
    "                      xytext = (0, 9), \n",
    "                      textcoords = 'offset points')\n",
    "    \n",
    "plt.title('Mediana de preço por categoria de produto')\n",
    "plt.ylabel('Preço')\n",
    "plt.xlabel('Categoria')\n",
    "plt.show()"
   ]
  },
  {
   "cell_type": "markdown",
   "metadata": {},
   "source": [
    "# Qual o produto com melhor e pior NPS?"
   ]
  },
  {
   "cell_type": "code",
   "execution_count": null,
   "metadata": {},
   "outputs": [],
   "source": [
    "df_forth_answer = df.copy()\n",
    "\n",
    "mean_nps = df_forth_answer.groupby('Product Category')['NPS'].mean()\n"
   ]
  },
  {
   "cell_type": "code",
   "execution_count": null,
   "metadata": {},
   "outputs": [],
   "source": [
    "sns.set(style=\"whitegrid\")\n",
    "plt.figure(figsize=(10, 6))\n",
    "plot = sns.barplot(x=mean_nps.index, y=mean_nps, palette='Set2')\n",
    "\n",
    "for p in plot.patches:\n",
    "    plot.annotate(format(p.get_height(), '.2f'), \n",
    "                      (p.get_x() + p.get_width() / 2., p.get_height()), \n",
    "                      ha = 'center', va = 'center', \n",
    "                      xytext = (0, 9), \n",
    "                      textcoords = 'offset points')\n",
    "\n",
    "plt.title('NPS médio por categoria de produto')\n",
    "plt.ylabel('NPS')\n",
    "plt.xlabel('Categoria')\n",
    "plt.show()"
   ]
  },
  {
   "cell_type": "markdown",
   "metadata": {},
   "source": [
    "<h1> Resolução do desafio"
   ]
  },
  {
   "cell_type": "markdown",
   "metadata": {},
   "source": [
    "Pensando no melhor tipo de solução possível, não se pode levar em consideração apenas os dados de gênero, idade, fonte e categoria de produto, pois o valor gasto também é um fator extremamente importante. Portanto, foram utilizadas as colunas 'Product Category', 'Customer Age', 'Gender', 'Source' e 'Total Purchase Amount' para responder ao desafio."
   ]
  },
  {
   "cell_type": "code",
   "execution_count": null,
   "metadata": {},
   "outputs": [],
   "source": [
    "colunas_a_serem_mantidas = ['Product Category','Customer Age','Gender','Source', 'Total Purchase Amount']\n",
    "df = df[colunas_a_serem_mantidas]\n",
    "\n",
    "df.rename(columns={'Total Purchase Amount': 'Total_Purchase_Amount'}, inplace=True)\n",
    "df.rename(columns={'Product Category': 'Product_Category'}, inplace=True)\n",
    "df.rename(columns={'Customer Age': 'Customer_Age'}, inplace=True)"
   ]
  },
  {
   "cell_type": "markdown",
   "metadata": {},
   "source": [
    "## Primeira Hipótese: Não existe diferença significativa do Total_Purchase_Amount entre os gêneros\n",
    "\n",
    "**Hipótese nula:** Não existe diferença significativa do Total_Purchase_Amount entre os gêneros.\n",
    "\n",
    "**Hipótese alternativa:** Existe diferença significativa do Total_Purchase_Amount entre os gêneros.\n"
   ]
  },
  {
   "cell_type": "code",
   "execution_count": null,
   "metadata": {},
   "outputs": [],
   "source": [
    "coluns_first_hypothesis= ['Gender', 'Total_Purchase_Amount']\n",
    "first_hypothesis_df = df[coluns_first_hypothesis]\n",
    "#Obtendo apenas as colunas que precisamos para a validação da hipótese"
   ]
  },
  {
   "cell_type": "code",
   "execution_count": null,
   "metadata": {},
   "outputs": [],
   "source": [
    "first_hypothesis_df\n",
    "#Exibindo o dataframe para aprimeira hipótese"
   ]
  },
  {
   "cell_type": "code",
   "execution_count": null,
   "metadata": {},
   "outputs": [],
   "source": [
    "formula_first_hypothesis = 'Total_Purchase_Amount ~ Gender'\n",
    "model_first_hypothesis  = ols(formula_first_hypothesis, data=first_hypothesis_df).fit()\n",
    "#Criando um modelo linear para a primeira hipótese"
   ]
  },
  {
   "cell_type": "code",
   "execution_count": null,
   "metadata": {},
   "outputs": [],
   "source": [
    "anova_table_first_hypothesis = sm.stats.anova_lm(model_first_hypothesis, typ=2)\n",
    "#Obtendo a tabela ANOVA para a primeira hipótese"
   ]
  },
  {
   "cell_type": "code",
   "execution_count": 1768,
   "metadata": {},
   "outputs": [
    {
     "name": "stdout",
     "output_type": "stream",
     "text": [
      "                sum_sq        df         F    PR(>F)\n",
      "Gender    1.122536e+06       1.0  0.539147  0.462787\n",
      "Residual  5.205111e+11  249998.0       NaN       NaN\n"
     ]
    }
   ],
   "source": [
    "print(anova_table_first_hypothesis)"
   ]
  },
  {
   "cell_type": "code",
   "execution_count": null,
   "metadata": {},
   "outputs": [],
   "source": [
    "df_first_hypothesis = df.groupby(['Gender'])['Total_Purchase_Amount'].median()\n",
    "df_first_hypothesis = df_first_hypothesis.reset_index()"
   ]
  },
  {
   "cell_type": "code",
   "execution_count": 1767,
   "metadata": {},
   "outputs": [
    {
     "data": {
      "text/html": [
       "<div>\n",
       "<style scoped>\n",
       "    .dataframe tbody tr th:only-of-type {\n",
       "        vertical-align: middle;\n",
       "    }\n",
       "\n",
       "    .dataframe tbody tr th {\n",
       "        vertical-align: top;\n",
       "    }\n",
       "\n",
       "    .dataframe thead th {\n",
       "        text-align: right;\n",
       "    }\n",
       "</style>\n",
       "<table border=\"1\" class=\"dataframe\">\n",
       "  <thead>\n",
       "    <tr style=\"text-align: right;\">\n",
       "      <th></th>\n",
       "      <th>Gender</th>\n",
       "      <th>Total_Purchase_Amount</th>\n",
       "    </tr>\n",
       "  </thead>\n",
       "  <tbody>\n",
       "    <tr>\n",
       "      <th>0</th>\n",
       "      <td>Female</td>\n",
       "      <td>2725.0</td>\n",
       "    </tr>\n",
       "    <tr>\n",
       "      <th>1</th>\n",
       "      <td>Male</td>\n",
       "      <td>2722.5</td>\n",
       "    </tr>\n",
       "  </tbody>\n",
       "</table>\n",
       "</div>"
      ],
      "text/plain": [
       "   Gender  Total_Purchase_Amount\n",
       "0  Female                 2725.0\n",
       "1    Male                 2722.5"
      ]
     },
     "execution_count": 1767,
     "metadata": {},
     "output_type": "execute_result"
    }
   ],
   "source": [
    "df_first_hypothesis"
   ]
  },
  {
   "cell_type": "code",
   "execution_count": null,
   "metadata": {},
   "outputs": [],
   "source": [
    "sns.set(style=\"whitegrid\")\n",
    "\n",
    "# Create the bar plot\n",
    "plt.figure(figsize=(10, 6))\n",
    "bar_plot = sns.barplot(x=\"Gender\", y=\"Total_Purchase_Amount\", data=df_first_hypothesis,palette='Set2')\n",
    "\n",
    "# Add title and labels\n",
    "plt.title(\"Valor total da compra por gênero\")\n",
    "plt.xlabel(\"Gênero\")\n",
    "plt.ylabel(\"Valor total da compra\")\n",
    "\n",
    "plt.show()"
   ]
  },
  {
   "cell_type": "markdown",
   "metadata": {},
   "source": [
    "Os dados da tabela ANOVA demonstram que o Total_Purchase_Amount não tem uma relação significante entre os gêneros, sendo assim, a hipótese nula é aceita, em que o gênero não tem uma influência significante no Total_Purchase_Amount."
   ]
  },
  {
   "cell_type": "markdown",
   "metadata": {},
   "source": [
    "## Segunda Hipótese: Não existe diferença significativa do Total_Purchase_Amount entre as diferentes categorias de produto\n",
    "\n",
    "**Hipótese nula:** Não existe diferença significativa do Total_Purchase_Amount entre as diferentes categorias de produto.\n",
    "\n",
    "**Hipótese alternativa:** Existe diferença significativa do Total_Purchase_Amount entre as diferentes categorias de produto.\n"
   ]
  },
  {
   "cell_type": "code",
   "execution_count": null,
   "metadata": {},
   "outputs": [],
   "source": [
    "coluns_second_hypothesis= ['Product_Category', 'Total_Purchase_Amount']\n",
    "second_hypothesis_df = df[coluns_second_hypothesis]\n",
    "#Obtendo apenas as colunas que precisamos para a validação da hipótese"
   ]
  },
  {
   "cell_type": "code",
   "execution_count": null,
   "metadata": {},
   "outputs": [],
   "source": [
    "formula_second_hypothesis = 'Total_Purchase_Amount ~ Product_Category'\n",
    "model_second_hypothesis  = ols(formula_second_hypothesis, data=second_hypothesis_df).fit()\n",
    "#Criando um modelo linear para a segunda hipótese"
   ]
  },
  {
   "cell_type": "code",
   "execution_count": null,
   "metadata": {},
   "outputs": [],
   "source": [
    "anova_table_second_hypothesis = sm.stats.anova_lm(model_second_hypothesis, typ=2)\n",
    "#Obtendo a tabela ANOVA para a segunda hipótese"
   ]
  },
  {
   "cell_type": "code",
   "execution_count": 1766,
   "metadata": {},
   "outputs": [
    {
     "data": {
      "text/html": [
       "<div>\n",
       "<style scoped>\n",
       "    .dataframe tbody tr th:only-of-type {\n",
       "        vertical-align: middle;\n",
       "    }\n",
       "\n",
       "    .dataframe tbody tr th {\n",
       "        vertical-align: top;\n",
       "    }\n",
       "\n",
       "    .dataframe thead th {\n",
       "        text-align: right;\n",
       "    }\n",
       "</style>\n",
       "<table border=\"1\" class=\"dataframe\">\n",
       "  <thead>\n",
       "    <tr style=\"text-align: right;\">\n",
       "      <th></th>\n",
       "      <th>sum_sq</th>\n",
       "      <th>df</th>\n",
       "      <th>F</th>\n",
       "      <th>PR(&gt;F)</th>\n",
       "    </tr>\n",
       "  </thead>\n",
       "  <tbody>\n",
       "    <tr>\n",
       "      <th>Product_Category</th>\n",
       "      <td>1.566396e+07</td>\n",
       "      <td>3.0</td>\n",
       "      <td>2.507816</td>\n",
       "      <td>0.056962</td>\n",
       "    </tr>\n",
       "    <tr>\n",
       "      <th>Residual</th>\n",
       "      <td>5.204966e+11</td>\n",
       "      <td>249996.0</td>\n",
       "      <td>NaN</td>\n",
       "      <td>NaN</td>\n",
       "    </tr>\n",
       "  </tbody>\n",
       "</table>\n",
       "</div>"
      ],
      "text/plain": [
       "                        sum_sq        df         F    PR(>F)\n",
       "Product_Category  1.566396e+07       3.0  2.507816  0.056962\n",
       "Residual          5.204966e+11  249996.0       NaN       NaN"
      ]
     },
     "execution_count": 1766,
     "metadata": {},
     "output_type": "execute_result"
    }
   ],
   "source": [
    "anova_table_second_hypothesis"
   ]
  },
  {
   "cell_type": "code",
   "execution_count": null,
   "metadata": {},
   "outputs": [],
   "source": [
    "df_second_hypothesis = df.groupby(['Product_Category'])['Total_Purchase_Amount'].median()\n",
    "df_second_hypothesis = df_second_hypothesis.reset_index()"
   ]
  },
  {
   "cell_type": "code",
   "execution_count": null,
   "metadata": {},
   "outputs": [],
   "source": [
    "df_second_hypothesis"
   ]
  },
  {
   "cell_type": "code",
   "execution_count": null,
   "metadata": {},
   "outputs": [],
   "source": [
    "sns.set(style=\"whitegrid\")\n",
    "\n",
    "# Create the bar plot\n",
    "plt.figure(figsize=(10, 6))\n",
    "bar_plot = sns.barplot(x=\"Product_Category\", y=\"Total_Purchase_Amount\", data=df_second_hypothesis,palette='Set2')\n",
    "\n",
    "# Add title and labels\n",
    "plt.title(\"Valor total da compra por categoria de produto\")\n",
    "plt.xlabel(\"Categoria de produto\")\n",
    "plt.ylabel(\"Valor total da compra\")\n",
    "plt.show()"
   ]
  },
  {
   "cell_type": "markdown",
   "metadata": {},
   "source": [
    "Os dados da tabela ANOVA demonstram que o Total_Purchase_Amount tem uma relação significante em relação ao Product_Category, ou seja, descartamos a hipótese nula e aceitamos a hipótese alternativa."
   ]
  },
  {
   "cell_type": "markdown",
   "metadata": {},
   "source": [
    "## Segunda Hipótese: Não existe diferença significativa do Total_Purchase_Amount entre as diferentes sources\n",
    "\n",
    "**Hipótese nula:** Não existe diferença significativa do Total_Purchase_Amount entre as diferentes sources.\n",
    "\n",
    "**Hipótese alternativa:** Existe diferença significativa do Total_Purchase_Amount entre as diferentes sources."
   ]
  },
  {
   "cell_type": "code",
   "execution_count": 1761,
   "metadata": {},
   "outputs": [],
   "source": [
    "coluns_third_hypothesis= ['Product_Category', 'Total_Purchase_Amount','Source','Gender']\n",
    "third_hypothesis_df = df[coluns_third_hypothesis]\n",
    "#Obtendo apenas as colunas que precisamos para a validação da hipótese"
   ]
  },
  {
   "cell_type": "code",
   "execution_count": 1762,
   "metadata": {},
   "outputs": [],
   "source": [
    "formula_third_hypothesis = 'Total_Purchase_Amount ~ Product_Category + Source + Gender'\n",
    "model_third_hypothesis  = ols(formula_third_hypothesis, data=third_hypothesis_df).fit()\n",
    "#Criando um modelo linear para a segunda hipótese"
   ]
  },
  {
   "cell_type": "code",
   "execution_count": 1764,
   "metadata": {},
   "outputs": [],
   "source": [
    "anova_table_third_hypothesis = sm.stats.anova_lm(model_third_hypothesis, typ=2)\n",
    "#Obtendo a tabela ANOVA para a segunda hipótese"
   ]
  },
  {
   "cell_type": "code",
   "execution_count": 1765,
   "metadata": {},
   "outputs": [
    {
     "data": {
      "text/html": [
       "<div>\n",
       "<style scoped>\n",
       "    .dataframe tbody tr th:only-of-type {\n",
       "        vertical-align: middle;\n",
       "    }\n",
       "\n",
       "    .dataframe tbody tr th {\n",
       "        vertical-align: top;\n",
       "    }\n",
       "\n",
       "    .dataframe thead th {\n",
       "        text-align: right;\n",
       "    }\n",
       "</style>\n",
       "<table border=\"1\" class=\"dataframe\">\n",
       "  <thead>\n",
       "    <tr style=\"text-align: right;\">\n",
       "      <th></th>\n",
       "      <th>sum_sq</th>\n",
       "      <th>df</th>\n",
       "      <th>F</th>\n",
       "      <th>PR(&gt;F)</th>\n",
       "    </tr>\n",
       "  </thead>\n",
       "  <tbody>\n",
       "    <tr>\n",
       "      <th>Product_Category</th>\n",
       "      <td>1.564018e+07</td>\n",
       "      <td>3.0</td>\n",
       "      <td>2.503980</td>\n",
       "      <td>0.057255</td>\n",
       "    </tr>\n",
       "    <tr>\n",
       "      <th>Source</th>\n",
       "      <td>1.374444e+06</td>\n",
       "      <td>3.0</td>\n",
       "      <td>0.220047</td>\n",
       "      <td>0.882536</td>\n",
       "    </tr>\n",
       "    <tr>\n",
       "      <th>Gender</th>\n",
       "      <td>1.130389e+06</td>\n",
       "      <td>1.0</td>\n",
       "      <td>0.542923</td>\n",
       "      <td>0.461225</td>\n",
       "    </tr>\n",
       "    <tr>\n",
       "      <th>Residual</th>\n",
       "      <td>5.204941e+11</td>\n",
       "      <td>249992.0</td>\n",
       "      <td>NaN</td>\n",
       "      <td>NaN</td>\n",
       "    </tr>\n",
       "  </tbody>\n",
       "</table>\n",
       "</div>"
      ],
      "text/plain": [
       "                        sum_sq        df         F    PR(>F)\n",
       "Product_Category  1.564018e+07       3.0  2.503980  0.057255\n",
       "Source            1.374444e+06       3.0  0.220047  0.882536\n",
       "Gender            1.130389e+06       1.0  0.542923  0.461225\n",
       "Residual          5.204941e+11  249992.0       NaN       NaN"
      ]
     },
     "execution_count": 1765,
     "metadata": {},
     "output_type": "execute_result"
    }
   ],
   "source": [
    "anova_table_third_hypothesis"
   ]
  },
  {
   "cell_type": "code",
   "execution_count": null,
   "metadata": {},
   "outputs": [],
   "source": [
    "df['Customer_Age'].unique() #Idades observadas no dataset"
   ]
  },
  {
   "cell_type": "markdown",
   "metadata": {},
   "source": [
    "A próxima celula de código será responsável pela separação em 4 diferentes dataframes, separando cada categoria de produto individualmente"
   ]
  },
  {
   "cell_type": "code",
   "execution_count": null,
   "metadata": {},
   "outputs": [],
   "source": [
    "compradores_electronics = df[df['Product_Category'] == 'Electronics'] #Filtrando os compradores de eletrônicos\n",
    "compradores_electronics = compradores_electronics.drop(columns='Product_Category') #Removendo a coluna 'Product Category'\n",
    "compradores_electronics.reset_index(drop=True, inplace=True) #Resetando o índice\n",
    "\n",
    "compradores_home = df[df['Product_Category'] == 'Home']\n",
    "compradores_home = compradores_home.drop(columns='Product_Category')\n",
    "compradores_home.reset_index(drop=True, inplace=True)\n",
    "\n",
    "compradores_clothing = df[df['Product_Category'] == 'Clothing']\n",
    "compradores_clothing = compradores_clothing.drop(columns='Product_Category') \n",
    "compradores_clothing.reset_index(drop=True, inplace=True)\n",
    "\n",
    "compradores_books = df[df['Product_Category'] == 'Books']\n",
    "compradores_books = compradores_books.drop(columns='Product_Category')\n",
    "compradores_books.reset_index(drop=True, inplace=True)"
   ]
  },
  {
   "cell_type": "code",
   "execution_count": null,
   "metadata": {},
   "outputs": [],
   "source": [
    "#Exemplo da tabela de compradores de eletronicos após separação\n",
    "compradores_electronics"
   ]
  },
  {
   "cell_type": "code",
   "execution_count": null,
   "metadata": {},
   "outputs": [],
   "source": [
    "#esta função é responsável pela separação em faixas etárias, neste caso, de 18 até 73 anos, com intervalos de 5 anos\n",
    "def separate_in_age_group(df):\n",
    "    bins = list(range(18, 69, 10)) + [100]\n",
    "    labels = [f\"{i}-{i+9}\" for i in range(18, 67, 10)] + [\"68+\"]\n",
    "    df['age_group'] = pd.cut(df['Customer_Age'], bins=bins, labels=labels, right=False)\n",
    "    df.drop(columns='Customer_Age', inplace=True) #Removendo a coluna de idade, agora desnecessária\n"
   ]
  },
  {
   "cell_type": "code",
   "execution_count": null,
   "metadata": {},
   "outputs": [],
   "source": [
    "separate_in_age_group(compradores_electronics)\n",
    "separate_in_age_group(compradores_home)\n",
    "separate_in_age_group(compradores_clothing)\n",
    "separate_in_age_group(compradores_books)"
   ]
  },
  {
   "cell_type": "markdown",
   "metadata": {},
   "source": [
    "**Como demonstrado anteriormente pelo valor-p, o gênero não é relevante estatisticamente para nossa análise. Portanto, a função `agrupar_age_groups` agrupará os dados de cada tipo de produto em conjuntos com faixas etárias e fontes iguais, sem distinção de gênero.**\n"
   ]
  },
  {
   "cell_type": "code",
   "execution_count": null,
   "metadata": {},
   "outputs": [],
   "source": [
    "def agrupar_age_groups(df):\n",
    "    #std_price_quantity = df.groupby(['age_group', 'Gender','Source'])['Price*Quantity'].std().reset_index()\n",
    "    std_price_quantity = df.groupby(['age_group','Source'])['Total_Purchase_Amount'].median().reset_index()\n",
    "    source_counts = df.groupby(['age_group','Source']).size().reset_index(name='Source_Count')\n",
    "    df = pd.merge(std_price_quantity, source_counts, on=['age_group','Source'])\n",
    "    return df"
   ]
  },
  {
   "cell_type": "code",
   "execution_count": null,
   "metadata": {},
   "outputs": [],
   "source": [
    "compradores_electronics_gruped = agrupar_age_groups(compradores_electronics)\n",
    "compradores_home_gruped = agrupar_age_groups(compradores_home)\n",
    "compradores_clothing_gruped = agrupar_age_groups(compradores_clothing)\n",
    "compradores_books_gruped = agrupar_age_groups(compradores_books)"
   ]
  },
  {
   "cell_type": "markdown",
   "metadata": {},
   "source": [
    "**Dessa forma, as tabelas `compradores_electronics_grouped`, `compradores_home_grouped`, `compradores_clothing_grouped` e `compradores_books_grouped` conterão os dados de compras dos diferentes tipos de produtos. As tabelas apresentarão a quantidade de compras realizadas por cada faixa etária com diferentes fontes, além da mediana do Total_Purchase_Amount gasto por esses grupos.**\n"
   ]
  },
  {
   "cell_type": "code",
   "execution_count": null,
   "metadata": {},
   "outputs": [],
   "source": [
    "compradores_electronics_gruped"
   ]
  },
  {
   "cell_type": "markdown",
   "metadata": {},
   "source": [
    "#### Um fator extremamente importante da minha solução é a variável \"Rate\". Ela é obtida através da multiplicação do desvio padrão do 'Total Purchase Amount' dos grupos (Gênero, Faixa Etária e Source) pela quantidade de compras que fazem parte do mesmo grupo.\n",
    "\n",
    "#### O Rate serve como um indicador para mostrar o quanto aquele grupo gastou de fato com aquele determinado produto, servindo como um forte indicativo sobre qual seria o melhor grupo para vendermos determinado tipo de produto.\n"
   ]
  },
  {
   "cell_type": "code",
   "execution_count": null,
   "metadata": {},
   "outputs": [],
   "source": [
    "compradores_electronics_gruped['Rate'] = compradores_electronics_gruped['Total_Purchase_Amount'] * compradores_electronics_gruped['Source_Count']\n",
    "compradores_electronics_gruped.drop(columns=['Source_Count','Total_Purchase_Amount'], inplace=True)\n",
    "compradores_electronics_gruped = compradores_electronics_gruped.sort_values(by='Rate', ascending=False) #Organizando o DataFrame de forma decrescente\n",
    "\n",
    "#compradores_electronics_gruped['Rate'] = compradores_electronics_gruped['Price*Quantity'] * compradores_electronics_gruped['Source_Count']\n",
    "#compradores_electronics_gruped.drop(columns=['Source_Count','Price*Quantity'], v binplace=True)\n",
    "#compradores_electronics_gruped = compradores_electronics_gruped.sort_values(by='Rate', ascending=False) #Organizando o DataFrame de forma decrescente"
   ]
  },
  {
   "cell_type": "code",
   "execution_count": null,
   "metadata": {},
   "outputs": [],
   "source": [
    "compradores_electronics_gruped"
   ]
  },
  {
   "cell_type": "code",
   "execution_count": null,
   "metadata": {},
   "outputs": [],
   "source": [
    "formula = 'Total_Purchase_Amount ~ age_group + Gender + Source + age_group:Gender + age_group:Source + Gender:Source'"
   ]
  },
  {
   "cell_type": "code",
   "execution_count": null,
   "metadata": {},
   "outputs": [],
   "source": [
    "model_test = ols(formula, data=compradores_electronics).fit()"
   ]
  },
  {
   "cell_type": "code",
   "execution_count": null,
   "metadata": {},
   "outputs": [],
   "source": [
    "anova_table = sm.stats.anova_lm(model_test, typ=2)"
   ]
  },
  {
   "cell_type": "code",
   "execution_count": null,
   "metadata": {},
   "outputs": [],
   "source": [
    "anova_table"
   ]
  },
  {
   "cell_type": "code",
   "execution_count": null,
   "metadata": {},
   "outputs": [],
   "source": [
    "formula = 'Rate ~ age_group + Gender + Source + age_group:Gender + age_group:Source + Gender:Source'"
   ]
  },
  {
   "cell_type": "code",
   "execution_count": null,
   "metadata": {},
   "outputs": [],
   "source": [
    "model = ols(formula, data=compradores_electronics_gruped).fit()"
   ]
  },
  {
   "cell_type": "code",
   "execution_count": null,
   "metadata": {},
   "outputs": [],
   "source": [
    "anova_table = sm.stats.anova_lm(model, typ=2)"
   ]
  },
  {
   "cell_type": "code",
   "execution_count": null,
   "metadata": {},
   "outputs": [],
   "source": [
    "print(anova_table) "
   ]
  },
  {
   "cell_type": "markdown",
   "metadata": {},
   "source": [
    "The ANOVA table provides the following key insights:\n",
    "\n",
    "age_group: The F-value is 466.10 with a p-value of \n",
    "6.75×10^−16. This indicates a significant effect of \"age_group\" on the \"Rate\".\n",
    "\n",
    "Gender: The F-value is 0.33 with a p-value of 0.573. This indicates that \"Gender\" does not have a significant effect on the \"Rate\".\n",
    "\n",
    "Source: The F-value is 228.11 with a p-value of \n",
    "9.82×10^−13. This indicates a significant effect of \"Source\" on the \"Rate\".\n",
    "\n",
    "age_group: The interaction between \"age_group\" and \"Gender\" has an F-value of 0.69 with a p-value of 0.637, indicating no significant interaction effect.\n",
    "age_group: The interaction between \"age_group\" and \"Source\" has an F-value of 4.90 with a p-value of 0.0019, indicating a significant interaction effect.\n",
    "Gender: The interaction between \"Gender\" and \"Source\" has an F-value of 0.34 with a p-value of 0.797, indicating no si"
   ]
  },
  {
   "cell_type": "code",
   "execution_count": null,
   "metadata": {},
   "outputs": [],
   "source": [
    "#Aqui, estou utoizando o MinMaxScaler da biblioteca sklearn para normalizar os valores da coluna 'Rate'\n",
    "#Neste caso, os valores de Rate irão de 0 a 1, onde 1 é o indicativo do melhor grupo para vender e 0 o pior grupo comparado a todos os outros\n",
    "from sklearn.preprocessing import MinMaxScaler\n",
    "scaler = MinMaxScaler()\n",
    "compradores_electronics_gruped[['Rate']] = scaler.fit_transform(compradores_electronics_gruped[['Rate']])\n",
    "compradores_electronics_gruped = compradores_electronics_gruped.sort_values(by='Rate', ascending=False) #Organizando o DataFrame de forma decrescente"
   ]
  },
  {
   "cell_type": "code",
   "execution_count": null,
   "metadata": {},
   "outputs": [],
   "source": [
    "compradores_electronics_gruped\n",
    "#saving compradores_electronics_gruped to csv"
   ]
  },
  {
   "cell_type": "code",
   "execution_count": null,
   "metadata": {},
   "outputs": [],
   "source": [
    "compradores_electronics_gruped"
   ]
  },
  {
   "cell_type": "code",
   "execution_count": null,
   "metadata": {},
   "outputs": [],
   "source": [
    "df"
   ]
  }
 ],
 "metadata": {
  "kernelspec": {
   "display_name": "Python 3",
   "language": "python",
   "name": "python3"
  },
  "language_info": {
   "codemirror_mode": {
    "name": "ipython",
    "version": 3
   },
   "file_extension": ".py",
   "mimetype": "text/x-python",
   "name": "python",
   "nbconvert_exporter": "python",
   "pygments_lexer": "ipython3",
   "version": "3.9.0"
  }
 },
 "nbformat": 4,
 "nbformat_minor": 2
}
