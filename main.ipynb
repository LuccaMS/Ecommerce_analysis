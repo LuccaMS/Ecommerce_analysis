{
 "cells": [
  {
   "cell_type": "markdown",
   "metadata": {},
   "source": [
    "<h3>Estágio em Dados - Itaú Unibanco - Desafio\n",
    "<h3>\n",
    "Código desenvolvido por : Lucca Machado da Silva    "
   ]
  },
  {
   "cell_type": "code",
   "execution_count": 2013,
   "metadata": {},
   "outputs": [],
   "source": [
    "#Utilizando a biblioteca pandas\n",
    "import pandas as pd\n",
    "import numpy as np\n",
    "import seaborn as sns\n",
    "import matplotlib.pyplot as plt\n",
    "import seaborn as sns\n",
    "import scipy.stats as stats\n",
    "from statsmodels.formula.api import ols\n",
    "import statsmodels.api as sm\n",
    "from sklearn.preprocessing import MinMaxScaler\n",
    "scaler = MinMaxScaler()\n",
    "\n",
    "\n",
    "import warnings\n",
    "warnings.simplefilter(action='ignore', category=(FutureWarning, DeprecationWarning))"
   ]
  },
  {
   "cell_type": "code",
   "execution_count": 2014,
   "metadata": {},
   "outputs": [],
   "source": [
    "#Carregando o arquivo CSV para um DataFrame\n",
    "df = pd.read_csv('Ecommerce_DBS.csv')"
   ]
  },
  {
   "cell_type": "code",
   "execution_count": 2015,
   "metadata": {},
   "outputs": [
    {
     "data": {
      "text/html": [
       "<div>\n",
       "<style scoped>\n",
       "    .dataframe tbody tr th:only-of-type {\n",
       "        vertical-align: middle;\n",
       "    }\n",
       "\n",
       "    .dataframe tbody tr th {\n",
       "        vertical-align: top;\n",
       "    }\n",
       "\n",
       "    .dataframe thead th {\n",
       "        text-align: right;\n",
       "    }\n",
       "</style>\n",
       "<table border=\"1\" class=\"dataframe\">\n",
       "  <thead>\n",
       "    <tr style=\"text-align: right;\">\n",
       "      <th></th>\n",
       "      <th>Customer ID</th>\n",
       "      <th>Purchase Date</th>\n",
       "      <th>Product Category</th>\n",
       "      <th>Product Price</th>\n",
       "      <th>Quantity</th>\n",
       "      <th>Total Purchase Amount</th>\n",
       "      <th>NPS</th>\n",
       "      <th>Customer Age</th>\n",
       "      <th>Gender</th>\n",
       "      <th>Source</th>\n",
       "      <th>Country</th>\n",
       "      <th>State</th>\n",
       "      <th>Latitude</th>\n",
       "      <th>Longituide</th>\n",
       "    </tr>\n",
       "  </thead>\n",
       "  <tbody>\n",
       "    <tr>\n",
       "      <th>0</th>\n",
       "      <td>46251</td>\n",
       "      <td>08/09/2020</td>\n",
       "      <td>Electronics</td>\n",
       "      <td>12</td>\n",
       "      <td>3</td>\n",
       "      <td>740</td>\n",
       "      <td>7</td>\n",
       "      <td>20</td>\n",
       "      <td>Male</td>\n",
       "      <td>Instagram Campign</td>\n",
       "      <td>Canada</td>\n",
       "      <td>Alberta</td>\n",
       "      <td>55.000000</td>\n",
       "      <td>-115.000000</td>\n",
       "    </tr>\n",
       "    <tr>\n",
       "      <th>1</th>\n",
       "      <td>46251</td>\n",
       "      <td>05/03/2022</td>\n",
       "      <td>Home</td>\n",
       "      <td>468</td>\n",
       "      <td>4</td>\n",
       "      <td>2739</td>\n",
       "      <td>8</td>\n",
       "      <td>20</td>\n",
       "      <td>Male</td>\n",
       "      <td>Instagram Campign</td>\n",
       "      <td>Canada</td>\n",
       "      <td>Ontario</td>\n",
       "      <td>50.000000</td>\n",
       "      <td>-85.000000</td>\n",
       "    </tr>\n",
       "    <tr>\n",
       "      <th>2</th>\n",
       "      <td>46251</td>\n",
       "      <td>23/05/2022</td>\n",
       "      <td>Home</td>\n",
       "      <td>288</td>\n",
       "      <td>2</td>\n",
       "      <td>3196</td>\n",
       "      <td>10</td>\n",
       "      <td>20</td>\n",
       "      <td>Male</td>\n",
       "      <td>SEM</td>\n",
       "      <td>United States</td>\n",
       "      <td>New Mexico</td>\n",
       "      <td>34.840515</td>\n",
       "      <td>-106.248482</td>\n",
       "    </tr>\n",
       "    <tr>\n",
       "      <th>3</th>\n",
       "      <td>46251</td>\n",
       "      <td>12/11/2020</td>\n",
       "      <td>Clothing</td>\n",
       "      <td>196</td>\n",
       "      <td>1</td>\n",
       "      <td>3509</td>\n",
       "      <td>3</td>\n",
       "      <td>20</td>\n",
       "      <td>Male</td>\n",
       "      <td>Instagram Campign</td>\n",
       "      <td>Canada</td>\n",
       "      <td>Saskatchewan</td>\n",
       "      <td>55.000000</td>\n",
       "      <td>-106.000000</td>\n",
       "    </tr>\n",
       "    <tr>\n",
       "      <th>4</th>\n",
       "      <td>13593</td>\n",
       "      <td>27/11/2020</td>\n",
       "      <td>Home</td>\n",
       "      <td>449</td>\n",
       "      <td>1</td>\n",
       "      <td>3452</td>\n",
       "      <td>3</td>\n",
       "      <td>20</td>\n",
       "      <td>Female</td>\n",
       "      <td>Instagram Campign</td>\n",
       "      <td>United States</td>\n",
       "      <td>California</td>\n",
       "      <td>36.116203</td>\n",
       "      <td>-119.681564</td>\n",
       "    </tr>\n",
       "    <tr>\n",
       "      <th>...</th>\n",
       "      <td>...</td>\n",
       "      <td>...</td>\n",
       "      <td>...</td>\n",
       "      <td>...</td>\n",
       "      <td>...</td>\n",
       "      <td>...</td>\n",
       "      <td>...</td>\n",
       "      <td>...</td>\n",
       "      <td>...</td>\n",
       "      <td>...</td>\n",
       "      <td>...</td>\n",
       "      <td>...</td>\n",
       "      <td>...</td>\n",
       "      <td>...</td>\n",
       "    </tr>\n",
       "    <tr>\n",
       "      <th>249995</th>\n",
       "      <td>33308</td>\n",
       "      <td>10/08/2023</td>\n",
       "      <td>Clothing</td>\n",
       "      <td>279</td>\n",
       "      <td>2</td>\n",
       "      <td>2187</td>\n",
       "      <td>1</td>\n",
       "      <td>55</td>\n",
       "      <td>Male</td>\n",
       "      <td>SEM</td>\n",
       "      <td>United States</td>\n",
       "      <td>Indiana</td>\n",
       "      <td>39.849426</td>\n",
       "      <td>-86.258278</td>\n",
       "    </tr>\n",
       "    <tr>\n",
       "      <th>249996</th>\n",
       "      <td>48835</td>\n",
       "      <td>23/11/2021</td>\n",
       "      <td>Home</td>\n",
       "      <td>27</td>\n",
       "      <td>1</td>\n",
       "      <td>3615</td>\n",
       "      <td>1</td>\n",
       "      <td>42</td>\n",
       "      <td>Female</td>\n",
       "      <td>Instagram Campign</td>\n",
       "      <td>Canada</td>\n",
       "      <td>Quebec</td>\n",
       "      <td>53.000000</td>\n",
       "      <td>-70.000000</td>\n",
       "    </tr>\n",
       "    <tr>\n",
       "      <th>249997</th>\n",
       "      <td>21019</td>\n",
       "      <td>02/07/2020</td>\n",
       "      <td>Home</td>\n",
       "      <td>17</td>\n",
       "      <td>5</td>\n",
       "      <td>2466</td>\n",
       "      <td>0</td>\n",
       "      <td>41</td>\n",
       "      <td>Male</td>\n",
       "      <td>Instagram Campign</td>\n",
       "      <td>United States</td>\n",
       "      <td>Indiana</td>\n",
       "      <td>39.849426</td>\n",
       "      <td>-86.258278</td>\n",
       "    </tr>\n",
       "    <tr>\n",
       "      <th>249998</th>\n",
       "      <td>49234</td>\n",
       "      <td>30/12/2020</td>\n",
       "      <td>Books</td>\n",
       "      <td>398</td>\n",
       "      <td>2</td>\n",
       "      <td>3668</td>\n",
       "      <td>8</td>\n",
       "      <td>34</td>\n",
       "      <td>Female</td>\n",
       "      <td>Instagram Campign</td>\n",
       "      <td>Canada</td>\n",
       "      <td>New Brunswick</td>\n",
       "      <td>46.498390</td>\n",
       "      <td>-66.159668</td>\n",
       "    </tr>\n",
       "    <tr>\n",
       "      <th>249999</th>\n",
       "      <td>16971</td>\n",
       "      <td>13/03/2021</td>\n",
       "      <td>Electronics</td>\n",
       "      <td>425</td>\n",
       "      <td>4</td>\n",
       "      <td>2370</td>\n",
       "      <td>2</td>\n",
       "      <td>36</td>\n",
       "      <td>Female</td>\n",
       "      <td>Organic Search</td>\n",
       "      <td>Canada</td>\n",
       "      <td>Prince Edward Island</td>\n",
       "      <td>46.250000</td>\n",
       "      <td>-63.000000</td>\n",
       "    </tr>\n",
       "  </tbody>\n",
       "</table>\n",
       "<p>250000 rows × 14 columns</p>\n",
       "</div>"
      ],
      "text/plain": [
       "        Customer ID Purchase Date Product Category  Product Price  Quantity  \\\n",
       "0             46251    08/09/2020      Electronics             12         3   \n",
       "1             46251    05/03/2022             Home            468         4   \n",
       "2             46251    23/05/2022             Home            288         2   \n",
       "3             46251    12/11/2020         Clothing            196         1   \n",
       "4             13593    27/11/2020             Home            449         1   \n",
       "...             ...           ...              ...            ...       ...   \n",
       "249995        33308    10/08/2023         Clothing            279         2   \n",
       "249996        48835    23/11/2021             Home             27         1   \n",
       "249997        21019    02/07/2020             Home             17         5   \n",
       "249998        49234    30/12/2020            Books            398         2   \n",
       "249999        16971    13/03/2021      Electronics            425         4   \n",
       "\n",
       "        Total Purchase Amount  NPS  Customer Age   Gender             Source  \\\n",
       "0                         740    7             20    Male  Instagram Campign   \n",
       "1                        2739    8             20    Male  Instagram Campign   \n",
       "2                        3196   10             20    Male                SEM   \n",
       "3                        3509    3             20    Male  Instagram Campign   \n",
       "4                        3452    3             20  Female  Instagram Campign   \n",
       "...                       ...  ...            ...     ...                ...   \n",
       "249995                   2187    1             55    Male                SEM   \n",
       "249996                   3615    1             42  Female  Instagram Campign   \n",
       "249997                   2466    0             41    Male  Instagram Campign   \n",
       "249998                   3668    8             34  Female  Instagram Campign   \n",
       "249999                   2370    2             36  Female     Organic Search   \n",
       "\n",
       "              Country                 State   Latitude  Longituide  \n",
       "0              Canada               Alberta  55.000000 -115.000000  \n",
       "1              Canada               Ontario  50.000000  -85.000000  \n",
       "2       United States            New Mexico  34.840515 -106.248482  \n",
       "3              Canada          Saskatchewan  55.000000 -106.000000  \n",
       "4       United States            California  36.116203 -119.681564  \n",
       "...               ...                   ...        ...         ...  \n",
       "249995  United States               Indiana  39.849426  -86.258278  \n",
       "249996         Canada                Quebec  53.000000  -70.000000  \n",
       "249997  United States               Indiana  39.849426  -86.258278  \n",
       "249998         Canada         New Brunswick  46.498390  -66.159668  \n",
       "249999         Canada  Prince Edward Island  46.250000  -63.000000  \n",
       "\n",
       "[250000 rows x 14 columns]"
      ]
     },
     "execution_count": 2015,
     "metadata": {},
     "output_type": "execute_result"
    }
   ],
   "source": [
    "#Verificando os dados inicais do DataFrame\n",
    "df"
   ]
  },
  {
   "cell_type": "code",
   "execution_count": 2016,
   "metadata": {},
   "outputs": [
    {
     "name": "stdout",
     "output_type": "stream",
     "text": [
      "<class 'pandas.core.frame.DataFrame'>\n",
      "RangeIndex: 250000 entries, 0 to 249999\n",
      "Data columns (total 14 columns):\n",
      " #   Column                 Non-Null Count   Dtype  \n",
      "---  ------                 --------------   -----  \n",
      " 0   Customer ID            250000 non-null  int64  \n",
      " 1   Purchase Date          250000 non-null  object \n",
      " 2   Product Category       250000 non-null  object \n",
      " 3   Product Price          250000 non-null  int64  \n",
      " 4   Quantity               250000 non-null  int64  \n",
      " 5   Total Purchase Amount  250000 non-null  int64  \n",
      " 6   NPS                    250000 non-null  int64  \n",
      " 7   Customer Age           250000 non-null  int64  \n",
      " 8   Gender                 250000 non-null  object \n",
      " 9   Source                 250000 non-null  object \n",
      " 10  Country                250000 non-null  object \n",
      " 11  State                  250000 non-null  object \n",
      " 12  Latitude               250000 non-null  float64\n",
      " 13  Longituide             250000 non-null  float64\n",
      "dtypes: float64(2), int64(6), object(6)\n",
      "memory usage: 26.7+ MB\n"
     ]
    }
   ],
   "source": [
    "#Obtendo informações gerais sobre o conjunto de dados, através disso é possível verificar que não temos missing values\n",
    "#e os tipos dos dados de cada coluna\n",
    "df.info()"
   ]
  },
  {
   "cell_type": "code",
   "execution_count": 2017,
   "metadata": {},
   "outputs": [
    {
     "data": {
      "text/html": [
       "<div>\n",
       "<style scoped>\n",
       "    .dataframe tbody tr th:only-of-type {\n",
       "        vertical-align: middle;\n",
       "    }\n",
       "\n",
       "    .dataframe tbody tr th {\n",
       "        vertical-align: top;\n",
       "    }\n",
       "\n",
       "    .dataframe thead th {\n",
       "        text-align: right;\n",
       "    }\n",
       "</style>\n",
       "<table border=\"1\" class=\"dataframe\">\n",
       "  <thead>\n",
       "    <tr style=\"text-align: right;\">\n",
       "      <th></th>\n",
       "      <th>Customer ID</th>\n",
       "      <th>Product Price</th>\n",
       "      <th>Quantity</th>\n",
       "      <th>Total Purchase Amount</th>\n",
       "      <th>NPS</th>\n",
       "      <th>Customer Age</th>\n",
       "      <th>Latitude</th>\n",
       "      <th>Longituide</th>\n",
       "    </tr>\n",
       "  </thead>\n",
       "  <tbody>\n",
       "    <tr>\n",
       "      <th>count</th>\n",
       "      <td>250000.00000</td>\n",
       "      <td>250000.000000</td>\n",
       "      <td>250000.000000</td>\n",
       "      <td>250000.000000</td>\n",
       "      <td>250000.000000</td>\n",
       "      <td>250000.000000</td>\n",
       "      <td>250000.000000</td>\n",
       "      <td>250000.000000</td>\n",
       "    </tr>\n",
       "    <tr>\n",
       "      <th>mean</th>\n",
       "      <td>25004.03624</td>\n",
       "      <td>254.659512</td>\n",
       "      <td>2.998896</td>\n",
       "      <td>2725.370732</td>\n",
       "      <td>4.991832</td>\n",
       "      <td>43.759228</td>\n",
       "      <td>42.400790</td>\n",
       "      <td>-81.648522</td>\n",
       "    </tr>\n",
       "    <tr>\n",
       "      <th>std</th>\n",
       "      <td>14428.27959</td>\n",
       "      <td>141.568577</td>\n",
       "      <td>1.414694</td>\n",
       "      <td>1442.933565</td>\n",
       "      <td>3.166732</td>\n",
       "      <td>15.392075</td>\n",
       "      <td>7.214608</td>\n",
       "      <td>37.339110</td>\n",
       "    </tr>\n",
       "    <tr>\n",
       "      <th>min</th>\n",
       "      <td>1.00000</td>\n",
       "      <td>10.000000</td>\n",
       "      <td>1.000000</td>\n",
       "      <td>100.000000</td>\n",
       "      <td>0.000000</td>\n",
       "      <td>18.000000</td>\n",
       "      <td>31.169546</td>\n",
       "      <td>-127.647621</td>\n",
       "    </tr>\n",
       "    <tr>\n",
       "      <th>25%</th>\n",
       "      <td>12497.75000</td>\n",
       "      <td>132.000000</td>\n",
       "      <td>2.000000</td>\n",
       "      <td>1477.000000</td>\n",
       "      <td>2.000000</td>\n",
       "      <td>30.000000</td>\n",
       "      <td>36.116203</td>\n",
       "      <td>-106.000000</td>\n",
       "    </tr>\n",
       "    <tr>\n",
       "      <th>50%</th>\n",
       "      <td>25018.00000</td>\n",
       "      <td>255.000000</td>\n",
       "      <td>3.000000</td>\n",
       "      <td>2724.000000</td>\n",
       "      <td>5.000000</td>\n",
       "      <td>44.000000</td>\n",
       "      <td>42.165726</td>\n",
       "      <td>-74.948051</td>\n",
       "    </tr>\n",
       "    <tr>\n",
       "      <th>75%</th>\n",
       "      <td>37506.00000</td>\n",
       "      <td>377.000000</td>\n",
       "      <td>4.000000</td>\n",
       "      <td>3974.000000</td>\n",
       "      <td>8.000000</td>\n",
       "      <td>57.000000</td>\n",
       "      <td>46.250000</td>\n",
       "      <td>-74.948051</td>\n",
       "    </tr>\n",
       "    <tr>\n",
       "      <th>max</th>\n",
       "      <td>50000.00000</td>\n",
       "      <td>500.000000</td>\n",
       "      <td>5.000000</td>\n",
       "      <td>5350.000000</td>\n",
       "      <td>10.000000</td>\n",
       "      <td>70.000000</td>\n",
       "      <td>56.415211</td>\n",
       "      <td>98.739075</td>\n",
       "    </tr>\n",
       "  </tbody>\n",
       "</table>\n",
       "</div>"
      ],
      "text/plain": [
       "        Customer ID  Product Price       Quantity  Total Purchase Amount  \\\n",
       "count  250000.00000  250000.000000  250000.000000          250000.000000   \n",
       "mean    25004.03624     254.659512       2.998896            2725.370732   \n",
       "std     14428.27959     141.568577       1.414694            1442.933565   \n",
       "min         1.00000      10.000000       1.000000             100.000000   \n",
       "25%     12497.75000     132.000000       2.000000            1477.000000   \n",
       "50%     25018.00000     255.000000       3.000000            2724.000000   \n",
       "75%     37506.00000     377.000000       4.000000            3974.000000   \n",
       "max     50000.00000     500.000000       5.000000            5350.000000   \n",
       "\n",
       "                 NPS  Customer Age        Latitude     Longituide  \n",
       "count  250000.000000  250000.000000  250000.000000  250000.000000  \n",
       "mean        4.991832      43.759228      42.400790     -81.648522  \n",
       "std         3.166732      15.392075       7.214608      37.339110  \n",
       "min         0.000000      18.000000      31.169546    -127.647621  \n",
       "25%         2.000000      30.000000      36.116203    -106.000000  \n",
       "50%         5.000000      44.000000      42.165726     -74.948051  \n",
       "75%         8.000000      57.000000      46.250000     -74.948051  \n",
       "max        10.000000      70.000000      56.415211      98.739075  "
      ]
     },
     "execution_count": 2017,
     "metadata": {},
     "output_type": "execute_result"
    }
   ],
   "source": [
    "df.describe()"
   ]
  },
  {
   "cell_type": "code",
   "execution_count": 2018,
   "metadata": {},
   "outputs": [
    {
     "data": {
      "text/plain": [
       "Index(['Customer ID', 'Purchase Date', 'Product Category', 'Product Price',\n",
       "       'Quantity', 'Total Purchase Amount', 'NPS', 'Customer Age ', 'Gender',\n",
       "       'Source', 'Country', 'State', 'Latitude', 'Longituide'],\n",
       "      dtype='object')"
      ]
     },
     "execution_count": 2018,
     "metadata": {},
     "output_type": "execute_result"
    }
   ],
   "source": [
    "#Verificando todas as chaves\n",
    "df.keys()"
   ]
  },
  {
   "cell_type": "code",
   "execution_count": 2019,
   "metadata": {},
   "outputs": [],
   "source": [
    "#A chave 'Customer Age ' possui um espaço no final, então vamos remover esse espaço para padronizar\n",
    "df.rename(columns={'Customer Age ': 'Customer Age'}, inplace=True)"
   ]
  },
  {
   "cell_type": "code",
   "execution_count": 2020,
   "metadata": {},
   "outputs": [
    {
     "data": {
      "text/plain": [
       "Index(['Customer ID', 'Purchase Date', 'Product Category', 'Product Price',\n",
       "       'Quantity', 'Total Purchase Amount', 'NPS', 'Customer Age', 'Gender',\n",
       "       'Source', 'Country', 'State', 'Latitude', 'Longituide'],\n",
       "      dtype='object')"
      ]
     },
     "execution_count": 2020,
     "metadata": {},
     "output_type": "execute_result"
    }
   ],
   "source": [
    "#Confirmando que a mudaça foi realizada\n",
    "df.keys()"
   ]
  },
  {
   "cell_type": "code",
   "execution_count": 2021,
   "metadata": {},
   "outputs": [
    {
     "data": {
      "text/plain": [
       "0"
      ]
     },
     "execution_count": 2021,
     "metadata": {},
     "output_type": "execute_result"
    }
   ],
   "source": [
    "#Verificando por duplicatas, neste caso, não possuimos duplicatas para limpar\n",
    "df.duplicated().sum()"
   ]
  },
  {
   "cell_type": "markdown",
   "metadata": {},
   "source": [
    "# Qual os produtos mais vendidos considerando os últimos 3 anos ?"
   ]
  },
  {
   "cell_type": "code",
   "execution_count": 2022,
   "metadata": {},
   "outputs": [],
   "source": [
    "df_first_answer = df.copy() #Criando uma cópia para responder a prgunta\n",
    "df_first_answer['Purchase Date'] = pd.to_datetime(df_first_answer['Purchase Date'],format='%d/%m/%Y') #Transformando a data de str para datetime\n",
    "df_first_answer = df_first_answer[df_first_answer['Purchase Date'] > '30/05/2021'] #Filtrando para datas maiores que 30/05/2021 (dia da resposta)\n",
    "produtos_vendidos = df_first_answer.groupby('Product Category')['Quantity'].sum() #Agrupando por categoria e somando as quantities"
   ]
  },
  {
   "cell_type": "code",
   "execution_count": 2023,
   "metadata": {},
   "outputs": [
    {
     "data": {
      "text/plain": [
       "Product Category\n",
       "Books          138605\n",
       "Clothing       139637\n",
       "Electronics     92480\n",
       "Home            91856\n",
       "Name: Quantity, dtype: int64"
      ]
     },
     "execution_count": 2023,
     "metadata": {},
     "output_type": "execute_result"
    }
   ],
   "source": [
    "produtos_vendidos"
   ]
  },
  {
   "cell_type": "code",
   "execution_count": 2024,
   "metadata": {},
   "outputs": [
    {
     "data": {
      "image/png": "[encoded data removed]",
      "text/plain": [
       "<Figure size 1000x600 with 1 Axes>"
      ]
     },
     "metadata": {},
     "output_type": "display_data"
    }
   ],
   "source": [
    "total_sales = produtos_vendidos.sum()\n",
    "def autopct_with_amount(pct):\n",
    "    return f\"{pct:.1f}% ({int(pct/100 * total_sales):,})\"  \n",
    "plt.pie(produtos_vendidos, labels=produtos_vendidos.index, autopct=autopct_with_amount, startangle=140)\n",
    "plt.title(\"Distribuição de tipos de produtos vendidos nos últimos 3 anos\")\n",
    "plt.show()"
   ]
  },
  {
   "cell_type": "markdown",
   "metadata": {},
   "source": [
    "Sendo assim, é possível observar que os produtos mais vendidos seguem esta ordem, de maior para menor em vendas respectivamente, Roupas, Livros, Eletrônicos e Produtos para casa"
   ]
  },
  {
   "cell_type": "markdown",
   "metadata": {},
   "source": [
    "# Qual o produto mais caro e o mais barato ?"
   ]
  },
  {
   "cell_type": "code",
   "execution_count": 2025,
   "metadata": {},
   "outputs": [],
   "source": [
    "df_second_answer = df.copy() #Criando uma cópia para responder a pergunta"
   ]
  },
  {
   "cell_type": "code",
   "execution_count": 2026,
   "metadata": {},
   "outputs": [],
   "source": [
    "#getting the most expensive 'Product Price' for each product category, the same for the cheaper them creating a df with both\n",
    "most_expensive = df_second_answer.groupby('Product Category')['Product Price'].max()\n",
    "cheaper = df_second_answer.groupby('Product Category')['Product Price'].min()\n",
    "most_expensive = most_expensive.reset_index()\n",
    "cheaper = cheaper.reset_index()\n",
    "most_expensive.rename(columns={'Product Price': 'Mais caro'}, inplace=True)\n",
    "cheaper.rename(columns={'Product Price': 'Mais barato'}, inplace=True)\n",
    "df_second_answer = pd.merge(most_expensive, cheaper, on='Product Category')"
   ]
  },
  {
   "cell_type": "code",
   "execution_count": 2027,
   "metadata": {},
   "outputs": [
    {
     "data": {
      "image/png": "[encoded data removed]",
      "text/plain": [
       "<Figure size 1000x600 with 1 Axes>"
      ]
     },
     "metadata": {},
     "output_type": "display_data"
    }
   ],
   "source": [
    "df_second_answer.plot(x='Product Category', kind='bar')\n",
    "plt.title('Produto mais caro e mais barato por categoria')\n",
    "plt.ylabel('Preço')\n",
    "plt.xlabel('Categoria')\n",
    "plt.show()"
   ]
  },
  {
   "cell_type": "markdown",
   "metadata": {},
   "source": [
    "# Qual a categoria de produto mais vendida e a menos vendida? Qual categoria mais e menos cara?"
   ]
  },
  {
   "cell_type": "code",
   "execution_count": 2028,
   "metadata": {},
   "outputs": [],
   "source": [
    "df_third_answer = df.copy()\n",
    "#getting the amount of sales for each product category\n",
    "sales = df_third_answer.groupby('Product Category')['Quantity'].sum()\n",
    "#Letting just the greatest and lower value in the sales\n",
    "sales = sales.reset_index()\n",
    "sales = sales.sort_values(by='Quantity')\n",
    "sales = sales.reset_index(drop=True)\n",
    "sales = sales.iloc[[0, -1], :]"
   ]
  },
  {
   "cell_type": "code",
   "execution_count": 2029,
   "metadata": {},
   "outputs": [
    {
     "data": {
      "text/html": [
       "<div>\n",
       "<style scoped>\n",
       "    .dataframe tbody tr th:only-of-type {\n",
       "        vertical-align: middle;\n",
       "    }\n",
       "\n",
       "    .dataframe tbody tr th {\n",
       "        vertical-align: top;\n",
       "    }\n",
       "\n",
       "    .dataframe thead th {\n",
       "        text-align: right;\n",
       "    }\n",
       "</style>\n",
       "<table border=\"1\" class=\"dataframe\">\n",
       "  <thead>\n",
       "    <tr style=\"text-align: right;\">\n",
       "      <th></th>\n",
       "      <th>Product Category</th>\n",
       "      <th>Quantity</th>\n",
       "    </tr>\n",
       "  </thead>\n",
       "  <tbody>\n",
       "    <tr>\n",
       "      <th>0</th>\n",
       "      <td>Home</td>\n",
       "      <td>149698</td>\n",
       "    </tr>\n",
       "    <tr>\n",
       "      <th>3</th>\n",
       "      <td>Clothing</td>\n",
       "      <td>225322</td>\n",
       "    </tr>\n",
       "  </tbody>\n",
       "</table>\n",
       "</div>"
      ],
      "text/plain": [
       "  Product Category  Quantity\n",
       "0             Home    149698\n",
       "3         Clothing    225322"
      ]
     },
     "execution_count": 2029,
     "metadata": {},
     "output_type": "execute_result"
    }
   ],
   "source": [
    "sales"
   ]
  },
  {
   "cell_type": "code",
   "execution_count": 2030,
   "metadata": {},
   "outputs": [
    {
     "data": {
      "image/png": "[encoded data removed]",
      "text/plain": [
       "<Figure size 1000x600 with 1 Axes>"
      ]
     },
     "metadata": {},
     "output_type": "display_data"
    }
   ],
   "source": [
    "sns.set(style=\"whitegrid\")\n",
    "plt.figure(figsize=(10, 6))\n",
    "plot = sns.barplot(x='Product Category', y='Quantity', data=sales,palette='Set2')\n",
    "\n",
    "for p in plot.patches:\n",
    "    plot.annotate(format(p.get_height(), '.0f'), \n",
    "                      (p.get_x() + p.get_width() / 2., p.get_height()), \n",
    "                      ha = 'center', va = 'center', \n",
    "                      xytext = (0, 9), \n",
    "                      textcoords = 'offset points')\n",
    "    \n",
    "plt.title('Categoria de produto mais e menos vendida')\n",
    "plt.ylabel('Quantidade')\n",
    "plt.xlabel('Categoria')\n",
    "plt.show()"
   ]
  },
  {
   "cell_type": "code",
   "execution_count": 2031,
   "metadata": {},
   "outputs": [
    {
     "data": {
      "image/png": "[encoded data removed]",
      "text/plain": [
       "<Figure size 1000x600 with 1 Axes>"
      ]
     },
     "metadata": {},
     "output_type": "display_data"
    }
   ],
   "source": [
    "#Extraindo a mediana de preço de produto por cada categoria\n",
    "median_prices = df_third_answer.groupby('Product Category')['Product Price'].median()\n",
    "\n",
    "#bar plot sns\n",
    "sns.set(style=\"whitegrid\")\n",
    "plt.figure(figsize=(10, 6))\n",
    "\n",
    "plot = sns.barplot(x=median_prices.index, y=median_prices,palette='Set2')\n",
    "\n",
    "for p in plot.patches:\n",
    "    plot.annotate(format(p.get_height(), '.2f'), \n",
    "                      (p.get_x() + p.get_width() / 2., p.get_height()), \n",
    "                      ha = 'center', va = 'center', \n",
    "                      xytext = (0, 9), \n",
    "                      textcoords = 'offset points')\n",
    "    \n",
    "plt.title('Mediana de preço por categoria de produto')\n",
    "plt.ylabel('Preço')\n",
    "plt.xlabel('Categoria')\n",
    "plt.show()"
   ]
  },
  {
   "cell_type": "markdown",
   "metadata": {},
   "source": [
    "# Qual o produto com melhor e pior NPS?"
   ]
  },
  {
   "cell_type": "code",
   "execution_count": 2032,
   "metadata": {},
   "outputs": [],
   "source": [
    "df_forth_answer = df.copy()\n",
    "\n",
    "mean_nps = df_forth_answer.groupby('Product Category')['NPS'].mean()\n"
   ]
  },
  {
   "cell_type": "code",
   "execution_count": 2033,
   "metadata": {},
   "outputs": [
    {
     "data": {
      "image/png": "[encoded data removed]",
      "text/plain": [
       "<Figure size 1000x600 with 1 Axes>"
      ]
     },
     "metadata": {},
     "output_type": "display_data"
    }
   ],
   "source": [
    "sns.set(style=\"whitegrid\")\n",
    "plt.figure(figsize=(10, 6))\n",
    "plot = sns.barplot(x=mean_nps.index, y=mean_nps, palette='Set2')\n",
    "\n",
    "for p in plot.patches:\n",
    "    plot.annotate(format(p.get_height(), '.2f'), \n",
    "                      (p.get_x() + p.get_width() / 2., p.get_height()), \n",
    "                      ha = 'center', va = 'center', \n",
    "                      xytext = (0, 9), \n",
    "                      textcoords = 'offset points')\n",
    "\n",
    "plt.title('NPS médio por categoria de produto')\n",
    "plt.ylabel('NPS')\n",
    "plt.xlabel('Categoria')\n",
    "plt.show()"
   ]
  },
  {
   "cell_type": "markdown",
   "metadata": {},
   "source": [
    "<h1> Resolução do desafio"
   ]
  },
  {
   "cell_type": "markdown",
   "metadata": {},
   "source": [
    "Pensando no melhor tipo de solução possível, não se pode levar em consideração apenas os dados de gênero, idade, fonte e categoria de produto, pois o valor gasto também é um fator extremamente importante. Portanto, foram utilizadas as colunas 'Product Category', 'Customer Age', 'Gender', 'Source' e 'Total Purchase Amount' para responder ao desafio."
   ]
  },
  {
   "cell_type": "code",
   "execution_count": 2034,
   "metadata": {},
   "outputs": [
    {
     "name": "stderr",
     "output_type": "stream",
     "text": [
      "C:\\Users\\lucca\\AppData\\Local\\Temp\\ipykernel_5092\\1054438190.py:4: SettingWithCopyWarning: \n",
      "A value is trying to be set on a copy of a slice from a DataFrame\n",
      "\n",
      "See the caveats in the documentation: https://pandas.pydata.org/pandas-docs/stable/user_guide/indexing.html#returning-a-view-versus-a-copy\n",
      "  df.rename(columns={'Total Purchase Amount': 'Total_Purchase_Amount'}, inplace=True)\n",
      "C:\\Users\\lucca\\AppData\\Local\\Temp\\ipykernel_5092\\1054438190.py:5: SettingWithCopyWarning: \n",
      "A value is trying to be set on a copy of a slice from a DataFrame\n",
      "\n",
      "See the caveats in the documentation: https://pandas.pydata.org/pandas-docs/stable/user_guide/indexing.html#returning-a-view-versus-a-copy\n",
      "  df.rename(columns={'Product Category': 'Product_Category'}, inplace=True)\n",
      "C:\\Users\\lucca\\AppData\\Local\\Temp\\ipykernel_5092\\1054438190.py:6: SettingWithCopyWarning: \n",
      "A value is trying to be set on a copy of a slice from a DataFrame\n",
      "\n",
      "See the caveats in the documentation: https://pandas.pydata.org/pandas-docs/stable/user_guide/indexing.html#returning-a-view-versus-a-copy\n",
      "  df.rename(columns={'Customer Age': 'Customer_Age'}, inplace=True)\n"
     ]
    }
   ],
   "source": [
    "colunas_a_serem_mantidas = ['Product Category','Customer Age','Gender','Source', 'Total Purchase Amount']\n",
    "df = df[colunas_a_serem_mantidas]\n",
    "\n",
    "df.rename(columns={'Total Purchase Amount': 'Total_Purchase_Amount'}, inplace=True)\n",
    "df.rename(columns={'Product Category': 'Product_Category'}, inplace=True)\n",
    "df.rename(columns={'Customer Age': 'Customer_Age'}, inplace=True)"
   ]
  },
  {
   "cell_type": "code",
   "execution_count": 2035,
   "metadata": {},
   "outputs": [],
   "source": [
    "#Separando o dataset em 4 datasets diferentes, um para cada categoria de produto\n",
    "\n",
    "compradores_electronics = df[df['Product_Category'] == 'Electronics'] #Filtrando os compradores de eletrônicos\n",
    "compradores_electronics = compradores_electronics.drop(columns='Product_Category') #Removendo a coluna 'Product Category'\n",
    "compradores_electronics.reset_index(drop=True, inplace=True) #Resetando o índice\n",
    "\n",
    "compradores_home = df[df['Product_Category'] == 'Home']\n",
    "compradores_home = compradores_home.drop(columns='Product_Category')\n",
    "compradores_home.reset_index(drop=True, inplace=True)\n",
    "\n",
    "compradores_clothing = df[df['Product_Category'] == 'Clothing']\n",
    "compradores_clothing = compradores_clothing.drop(columns='Product_Category') \n",
    "compradores_clothing.reset_index(drop=True, inplace=True)\n",
    "\n",
    "compradores_books = df[df['Product_Category'] == 'Books']\n",
    "compradores_books = compradores_books.drop(columns='Product_Category')\n",
    "compradores_books.reset_index(drop=True, inplace=True)"
   ]
  },
  {
   "cell_type": "code",
   "execution_count": 2036,
   "metadata": {},
   "outputs": [],
   "source": [
    "#esta função é responsável pela separação em faixas etárias, neste caso, de 18 até 73 anos, com intervalos de 5 anos\n",
    "def separate_in_age_group(df):\n",
    "    bins = list(range(18, 69, 10)) + [100]\n",
    "    labels = [f\"{i}-{i+9}\" for i in range(18, 67, 10)] + [\"68+\"]\n",
    "    df['age_group'] = pd.cut(df['Customer_Age'], bins=bins, labels=labels, right=False)\n",
    "    df.drop(columns='Customer_Age', inplace=True) #Removendo a coluna de idade, agora desnecessária"
   ]
  },
  {
   "cell_type": "code",
   "execution_count": 2037,
   "metadata": {},
   "outputs": [],
   "source": [
    "separate_in_age_group(compradores_electronics)\n",
    "separate_in_age_group(compradores_home)\n",
    "separate_in_age_group(compradores_clothing)\n",
    "separate_in_age_group(compradores_books)"
   ]
  },
  {
   "cell_type": "code",
   "execution_count": 2038,
   "metadata": {},
   "outputs": [],
   "source": [
    "def agrupar_age_groups(df):\n",
    "    std_price_quantity = df.groupby(['age_group','Source'])['Total_Purchase_Amount'].median().reset_index()\n",
    "    source_counts = df.groupby(['age_group','Source',]).size().reset_index(name='Source_Count')\n",
    "    df = pd.merge(std_price_quantity, source_counts, on=['age_group','Source'])\n",
    "    return df"
   ]
  },
  {
   "cell_type": "markdown",
   "metadata": {},
   "source": [
    "# Testes de Hipóteses"
   ]
  },
  {
   "cell_type": "markdown",
   "metadata": {},
   "source": [
    "### Primeira Hipótese: Não existe diferença significativa do Total_Purchase_Amount entre os gêneros\n",
    "\n",
    "**Hipótese nula:** Não existe diferença significativa do Total_Purchase_Amount entre os gêneros.\n",
    "\n",
    "**Hipótese alternativa:** Existe diferença significativa do Total_Purchase_Amount entre os gêneros.\n"
   ]
  },
  {
   "cell_type": "markdown",
   "metadata": {},
   "source": [
    "### Segunda Hipótese: Não existe diferença significativa do Total_Purchase_Amount entre as diferentes sources\n",
    "\n",
    "**Hipótese nula:** Não existe diferença significativa do Total_Purchase_Amount entre as diferentes sources.\n",
    "\n",
    "**Hipótese alternativa:** Existe diferença significativa do Total_Purchase_Amount entre as diferentes sources."
   ]
  },
  {
   "cell_type": "markdown",
   "metadata": {},
   "source": [
    "### Terceira Hipótese: Não existe diferença significativa do Total_Purchase_Amount entre as diferentes faixas etárias\n",
    "\n",
    "**Hipótese nula:** Não existe diferença significativa do Total_Purchase_Amount entre as diferentes faixas etárias.\n",
    "\n",
    "**Hipótese alternativa:** Existe diferença significativa do Total_Purchase_Amount entre as diferentes faixas etárias."
   ]
  },
  {
   "cell_type": "markdown",
   "metadata": {},
   "source": [
    "### Quarta Hipótese: Existe um grupo ideal (considerando idade e origem de compra) para a venda de um determinado tipo de produto visando obter o maior valor de venda possível\n",
    "\n",
    "**Hipótese nula:** Não existe um grupo que forneça o melhor valor de venda possível em relação aos outros.\n",
    "\n",
    "**Hipótese alternativa:** Existe um grupo que forneça o melhor maior valor de venda possível em relação aos outros.\n",
    "\n",
    "**Abordagem:** Para a realização desta hipótese, iremos agrupar os dados por faixa etária e por origem, além disso, somar a quantidade total de compras pertencentes aquele grupo e extrair a mediana do valor total gasto por aquele grupo."
   ]
  },
  {
   "cell_type": "markdown",
   "metadata": {},
   "source": [
    "Para a análise das hipóteses para todos os tipos de produtos, será utilizada a tabela ANOVA. Nela, a coluna PR(>F) indica o nosso p-value, que, quando menor que 0.05, indica fortemente uma rejeição de hipótese nula, ou seja, para valores de p muito baixos isso indica uma grande aderência a hipótese alternativa."
   ]
  },
  {
   "cell_type": "markdown",
   "metadata": {},
   "source": [
    "### Análise de hipóteses para livros"
   ]
  },
  {
   "cell_type": "code",
   "execution_count": 2039,
   "metadata": {},
   "outputs": [],
   "source": [
    "livros_hypothesis = 'Total_Purchase_Amount ~ Gender + Source + age_group'\n",
    "model_livros_hypothesis  = ols(livros_hypothesis, data=compradores_books).fit()\n",
    "#Criando um modelo linear para a hipótese"
   ]
  },
  {
   "cell_type": "code",
   "execution_count": 2040,
   "metadata": {},
   "outputs": [],
   "source": [
    "anova_table_livros = sm.stats.anova_lm(model_livros_hypothesis, typ=2)"
   ]
  },
  {
   "cell_type": "code",
   "execution_count": 2041,
   "metadata": {},
   "outputs": [
    {
     "data": {
      "text/html": [
       "<div>\n",
       "<style scoped>\n",
       "    .dataframe tbody tr th:only-of-type {\n",
       "        vertical-align: middle;\n",
       "    }\n",
       "\n",
       "    .dataframe tbody tr th {\n",
       "        vertical-align: top;\n",
       "    }\n",
       "\n",
       "    .dataframe thead th {\n",
       "        text-align: right;\n",
       "    }\n",
       "</style>\n",
       "<table border=\"1\" class=\"dataframe\">\n",
       "  <thead>\n",
       "    <tr style=\"text-align: right;\">\n",
       "      <th></th>\n",
       "      <th>sum_sq</th>\n",
       "      <th>df</th>\n",
       "      <th>F</th>\n",
       "      <th>PR(&gt;F)</th>\n",
       "    </tr>\n",
       "  </thead>\n",
       "  <tbody>\n",
       "    <tr>\n",
       "      <th>Gender</th>\n",
       "      <td>5.243645e+03</td>\n",
       "      <td>1.0</td>\n",
       "      <td>0.002521</td>\n",
       "      <td>9.599547e-01</td>\n",
       "    </tr>\n",
       "    <tr>\n",
       "      <th>Source</th>\n",
       "      <td>1.248526e+07</td>\n",
       "      <td>3.0</td>\n",
       "      <td>2.000938</td>\n",
       "      <td>1.114832e-01</td>\n",
       "    </tr>\n",
       "    <tr>\n",
       "      <th>age_group</th>\n",
       "      <td>4.232887e+08</td>\n",
       "      <td>5.0</td>\n",
       "      <td>40.702767</td>\n",
       "      <td>5.751888e-42</td>\n",
       "    </tr>\n",
       "    <tr>\n",
       "      <th>Residual</th>\n",
       "      <td>1.557888e+11</td>\n",
       "      <td>74902.0</td>\n",
       "      <td>NaN</td>\n",
       "      <td>NaN</td>\n",
       "    </tr>\n",
       "  </tbody>\n",
       "</table>\n",
       "</div>"
      ],
      "text/plain": [
       "                 sum_sq       df          F        PR(>F)\n",
       "Gender     5.243645e+03      1.0   0.002521  9.599547e-01\n",
       "Source     1.248526e+07      3.0   2.000938  1.114832e-01\n",
       "age_group  4.232887e+08      5.0  40.702767  5.751888e-42\n",
       "Residual   1.557888e+11  74902.0        NaN           NaN"
      ]
     },
     "execution_count": 2041,
     "metadata": {},
     "output_type": "execute_result"
    }
   ],
   "source": [
    "anova_table_livros #usado para as hipóteses 1,2 e 3"
   ]
  },
  {
   "cell_type": "code",
   "execution_count": 2042,
   "metadata": {},
   "outputs": [
    {
     "data": {
      "text/html": [
       "<div>\n",
       "<style scoped>\n",
       "    .dataframe tbody tr th:only-of-type {\n",
       "        vertical-align: middle;\n",
       "    }\n",
       "\n",
       "    .dataframe tbody tr th {\n",
       "        vertical-align: top;\n",
       "    }\n",
       "\n",
       "    .dataframe thead th {\n",
       "        text-align: right;\n",
       "    }\n",
       "</style>\n",
       "<table border=\"1\" class=\"dataframe\">\n",
       "  <thead>\n",
       "    <tr style=\"text-align: right;\">\n",
       "      <th></th>\n",
       "      <th>Gender</th>\n",
       "      <th>Total_Purchase_Amount</th>\n",
       "    </tr>\n",
       "  </thead>\n",
       "  <tbody>\n",
       "    <tr>\n",
       "      <th>0</th>\n",
       "      <td>Female</td>\n",
       "      <td>2742.0</td>\n",
       "    </tr>\n",
       "    <tr>\n",
       "      <th>1</th>\n",
       "      <td>Male</td>\n",
       "      <td>2740.0</td>\n",
       "    </tr>\n",
       "  </tbody>\n",
       "</table>\n",
       "</div>"
      ],
      "text/plain": [
       "   Gender  Total_Purchase_Amount\n",
       "0  Female                 2742.0\n",
       "1    Male                 2740.0"
      ]
     },
     "execution_count": 2042,
     "metadata": {},
     "output_type": "execute_result"
    }
   ],
   "source": [
    "compradores_books.groupby(['Gender'])['Total_Purchase_Amount'].median().reset_index()"
   ]
  },
  {
   "cell_type": "code",
   "execution_count": 2043,
   "metadata": {},
   "outputs": [
    {
     "data": {
      "text/html": [
       "<div>\n",
       "<style scoped>\n",
       "    .dataframe tbody tr th:only-of-type {\n",
       "        vertical-align: middle;\n",
       "    }\n",
       "\n",
       "    .dataframe tbody tr th {\n",
       "        vertical-align: top;\n",
       "    }\n",
       "\n",
       "    .dataframe thead th {\n",
       "        text-align: right;\n",
       "    }\n",
       "</style>\n",
       "<table border=\"1\" class=\"dataframe\">\n",
       "  <thead>\n",
       "    <tr style=\"text-align: right;\">\n",
       "      <th></th>\n",
       "      <th>Source</th>\n",
       "      <th>Total_Purchase_Amount</th>\n",
       "    </tr>\n",
       "  </thead>\n",
       "  <tbody>\n",
       "    <tr>\n",
       "      <th>0</th>\n",
       "      <td>FaceBook campaign</td>\n",
       "      <td>2755.0</td>\n",
       "    </tr>\n",
       "    <tr>\n",
       "      <th>1</th>\n",
       "      <td>Instagram Campign</td>\n",
       "      <td>2714.0</td>\n",
       "    </tr>\n",
       "    <tr>\n",
       "      <th>2</th>\n",
       "      <td>Organic Search</td>\n",
       "      <td>2708.0</td>\n",
       "    </tr>\n",
       "    <tr>\n",
       "      <th>3</th>\n",
       "      <td>SEM</td>\n",
       "      <td>2780.5</td>\n",
       "    </tr>\n",
       "  </tbody>\n",
       "</table>\n",
       "</div>"
      ],
      "text/plain": [
       "              Source  Total_Purchase_Amount\n",
       "0  FaceBook campaign                 2755.0\n",
       "1  Instagram Campign                 2714.0\n",
       "2     Organic Search                 2708.0\n",
       "3                SEM                 2780.5"
      ]
     },
     "execution_count": 2043,
     "metadata": {},
     "output_type": "execute_result"
    }
   ],
   "source": [
    "compradores_books.groupby(['Source'])['Total_Purchase_Amount'].median().reset_index()"
   ]
  },
  {
   "cell_type": "code",
   "execution_count": 2044,
   "metadata": {},
   "outputs": [
    {
     "data": {
      "text/html": [
       "<div>\n",
       "<style scoped>\n",
       "    .dataframe tbody tr th:only-of-type {\n",
       "        vertical-align: middle;\n",
       "    }\n",
       "\n",
       "    .dataframe tbody tr th {\n",
       "        vertical-align: top;\n",
       "    }\n",
       "\n",
       "    .dataframe thead th {\n",
       "        text-align: right;\n",
       "    }\n",
       "</style>\n",
       "<table border=\"1\" class=\"dataframe\">\n",
       "  <thead>\n",
       "    <tr style=\"text-align: right;\">\n",
       "      <th></th>\n",
       "      <th>age_group</th>\n",
       "      <th>Total_Purchase_Amount</th>\n",
       "    </tr>\n",
       "  </thead>\n",
       "  <tbody>\n",
       "    <tr>\n",
       "      <th>0</th>\n",
       "      <td>18-27</td>\n",
       "      <td>2650.5</td>\n",
       "    </tr>\n",
       "    <tr>\n",
       "      <th>1</th>\n",
       "      <td>28-37</td>\n",
       "      <td>2667.0</td>\n",
       "    </tr>\n",
       "    <tr>\n",
       "      <th>2</th>\n",
       "      <td>38-47</td>\n",
       "      <td>2739.0</td>\n",
       "    </tr>\n",
       "    <tr>\n",
       "      <th>3</th>\n",
       "      <td>48-57</td>\n",
       "      <td>2794.5</td>\n",
       "    </tr>\n",
       "    <tr>\n",
       "      <th>4</th>\n",
       "      <td>58-67</td>\n",
       "      <td>2839.0</td>\n",
       "    </tr>\n",
       "    <tr>\n",
       "      <th>5</th>\n",
       "      <td>68+</td>\n",
       "      <td>2847.5</td>\n",
       "    </tr>\n",
       "  </tbody>\n",
       "</table>\n",
       "</div>"
      ],
      "text/plain": [
       "  age_group  Total_Purchase_Amount\n",
       "0     18-27                 2650.5\n",
       "1     28-37                 2667.0\n",
       "2     38-47                 2739.0\n",
       "3     48-57                 2794.5\n",
       "4     58-67                 2839.0\n",
       "5       68+                 2847.5"
      ]
     },
     "execution_count": 2044,
     "metadata": {},
     "output_type": "execute_result"
    }
   ],
   "source": [
    "compradores_books.groupby(['age_group'])['Total_Purchase_Amount'].median().reset_index()"
   ]
  },
  {
   "cell_type": "code",
   "execution_count": 2045,
   "metadata": {},
   "outputs": [],
   "source": [
    "livros_agrupados = agrupar_age_groups(compradores_books)\n",
    "livros_agrupados['Rate'] = livros_agrupados['Total_Purchase_Amount'] * livros_agrupados['Source_Count']\n",
    "livros_agrupados.drop(columns=['Source_Count','Total_Purchase_Amount'], inplace=True)"
   ]
  },
  {
   "cell_type": "code",
   "execution_count": 2046,
   "metadata": {},
   "outputs": [],
   "source": [
    "#Quarta hipótese\n",
    "livros4_hypothesis = 'Rate ~ Source + age_group'\n",
    "model_livros4_hypothesis  = ols(livros4_hypothesis, data=livros_agrupados).fit()\n",
    "#Criando um modelo linear para a hipótese\n",
    "anova_table_livros4 = sm.stats.anova_lm(model_livros4_hypothesis, typ=2)"
   ]
  },
  {
   "cell_type": "code",
   "execution_count": 2047,
   "metadata": {},
   "outputs": [
    {
     "data": {
      "text/html": [
       "<div>\n",
       "<style scoped>\n",
       "    .dataframe tbody tr th:only-of-type {\n",
       "        vertical-align: middle;\n",
       "    }\n",
       "\n",
       "    .dataframe tbody tr th {\n",
       "        vertical-align: top;\n",
       "    }\n",
       "\n",
       "    .dataframe thead th {\n",
       "        text-align: right;\n",
       "    }\n",
       "</style>\n",
       "<table border=\"1\" class=\"dataframe\">\n",
       "  <thead>\n",
       "    <tr style=\"text-align: right;\">\n",
       "      <th></th>\n",
       "      <th>sum_sq</th>\n",
       "      <th>df</th>\n",
       "      <th>F</th>\n",
       "      <th>PR(&gt;F)</th>\n",
       "    </tr>\n",
       "  </thead>\n",
       "  <tbody>\n",
       "    <tr>\n",
       "      <th>Source</th>\n",
       "      <td>4.353113e+13</td>\n",
       "      <td>3.0</td>\n",
       "      <td>57.310946</td>\n",
       "      <td>1.896154e-08</td>\n",
       "    </tr>\n",
       "    <tr>\n",
       "      <th>age_group</th>\n",
       "      <td>1.462598e+14</td>\n",
       "      <td>5.0</td>\n",
       "      <td>115.535040</td>\n",
       "      <td>1.989666e-11</td>\n",
       "    </tr>\n",
       "    <tr>\n",
       "      <th>Residual</th>\n",
       "      <td>3.797803e+12</td>\n",
       "      <td>15.0</td>\n",
       "      <td>NaN</td>\n",
       "      <td>NaN</td>\n",
       "    </tr>\n",
       "  </tbody>\n",
       "</table>\n",
       "</div>"
      ],
      "text/plain": [
       "                 sum_sq    df           F        PR(>F)\n",
       "Source     4.353113e+13   3.0   57.310946  1.896154e-08\n",
       "age_group  1.462598e+14   5.0  115.535040  1.989666e-11\n",
       "Residual   3.797803e+12  15.0         NaN           NaN"
      ]
     },
     "execution_count": 2047,
     "metadata": {},
     "output_type": "execute_result"
    }
   ],
   "source": [
    "anova_table_livros4"
   ]
  },
  {
   "cell_type": "markdown",
   "metadata": {},
   "source": [
    "Como o 'Rate' possuí valores muito altos, irei utilizar o MixMaxScaler do skelarn para normalizar essa coluna entre 0 e 1, onde 1 é o melhor grupo para vender e 0 o pior, considerando o valor obtido."
   ]
  },
  {
   "cell_type": "code",
   "execution_count": 2048,
   "metadata": {},
   "outputs": [],
   "source": [
    "livros_agrupados[['Rate']] = scaler.fit_transform(livros_agrupados[['Rate']])\n",
    "livros_agrupados = livros_agrupados.sort_values(by='Rate', ascending=False)"
   ]
  },
  {
   "cell_type": "code",
   "execution_count": 2049,
   "metadata": {},
   "outputs": [
    {
     "data": {
      "text/html": [
       "<div>\n",
       "<style scoped>\n",
       "    .dataframe tbody tr th:only-of-type {\n",
       "        vertical-align: middle;\n",
       "    }\n",
       "\n",
       "    .dataframe tbody tr th {\n",
       "        vertical-align: top;\n",
       "    }\n",
       "\n",
       "    .dataframe thead th {\n",
       "        text-align: right;\n",
       "    }\n",
       "</style>\n",
       "<table border=\"1\" class=\"dataframe\">\n",
       "  <thead>\n",
       "    <tr style=\"text-align: right;\">\n",
       "      <th></th>\n",
       "      <th>age_group</th>\n",
       "      <th>Source</th>\n",
       "      <th>Rate</th>\n",
       "    </tr>\n",
       "  </thead>\n",
       "  <tbody>\n",
       "    <tr>\n",
       "      <th>17</th>\n",
       "      <td>58-67</td>\n",
       "      <td>Instagram Campign</td>\n",
       "      <td>1.000000</td>\n",
       "    </tr>\n",
       "    <tr>\n",
       "      <th>9</th>\n",
       "      <td>38-47</td>\n",
       "      <td>Instagram Campign</td>\n",
       "      <td>0.989455</td>\n",
       "    </tr>\n",
       "    <tr>\n",
       "      <th>16</th>\n",
       "      <td>58-67</td>\n",
       "      <td>FaceBook campaign</td>\n",
       "      <td>0.979587</td>\n",
       "    </tr>\n",
       "    <tr>\n",
       "      <th>1</th>\n",
       "      <td>18-27</td>\n",
       "      <td>Instagram Campign</td>\n",
       "      <td>0.969883</td>\n",
       "    </tr>\n",
       "    <tr>\n",
       "      <th>11</th>\n",
       "      <td>38-47</td>\n",
       "      <td>SEM</td>\n",
       "      <td>0.964523</td>\n",
       "    </tr>\n",
       "  </tbody>\n",
       "</table>\n",
       "</div>"
      ],
      "text/plain": [
       "   age_group             Source      Rate\n",
       "17     58-67  Instagram Campign  1.000000\n",
       "9      38-47  Instagram Campign  0.989455\n",
       "16     58-67  FaceBook campaign  0.979587\n",
       "1      18-27  Instagram Campign  0.969883\n",
       "11     38-47                SEM  0.964523"
      ]
     },
     "execution_count": 2049,
     "metadata": {},
     "output_type": "execute_result"
    }
   ],
   "source": [
    "livros_agrupados.head()"
   ]
  },
  {
   "cell_type": "code",
   "execution_count": 2050,
   "metadata": {},
   "outputs": [
    {
     "data": {
      "image/png": "[encoded data removed]",
      "text/plain": [
       "<Figure size 1400x800 with 1 Axes>"
      ]
     },
     "metadata": {},
     "output_type": "display_data"
    }
   ],
   "source": [
    "# Definir o estilo da visualização\n",
    "sns.set(style=\"whitegrid\")\n",
    "\n",
    "# Criar o gráfico\n",
    "plt.figure(figsize=(14, 8))\n",
    "chart = sns.barplot(\n",
    "    x=\"age_group\", \n",
    "    y=\"Rate\", \n",
    "    hue=\"Source\", \n",
    "    data=livros_agrupados, \n",
    "    palette=\"viridis\"\n",
    ")\n",
    "\n",
    "# Adicionar títulos e rótulos\n",
    "chart.set_title('Rate por grupo etário e origem', fontsize=20)\n",
    "chart.set_xlabel('Grupo Etário', fontsize=15)\n",
    "chart.set_ylabel('Rate', fontsize=15)\n",
    "\n",
    "plt.xticks(rotation=45)\n",
    "plt.show()"
   ]
  },
  {
   "cell_type": "code",
   "execution_count": 2051,
   "metadata": {},
   "outputs": [],
   "source": [
    "#saving livros_agrupados to csv\n",
    "livros_agrupados.to_csv('livros_agrupados.csv', index=False)"
   ]
  },
  {
   "cell_type": "markdown",
   "metadata": {},
   "source": [
    "### Conclusões sobre produtos da categoria de livros\n",
    "\n",
    "Com base na análise da tabela, podemos extrair as seguintes conclusões sobre os produtos da categoria de livros:\n",
    "\n",
    "* **Hipótese 1: Gênero:** O gênero do comprador não influencia significativamente o valor gasto.\n",
    "* **Hipótese 2: Origem da compra:** A origem da compra não demonstra relevância estatística em relação ao valor gasto.\n",
    "* **Hipótese 3: Faixa etária:** A faixa etária do comprador apresenta alta correlação com o valor gasto na compra.\n",
    "* **Hipótese 4: Grupo Ideal:** Existe um grupo ideal para obter o melhor valor possível.\n",
    "\n",
    "## Conclusão final sobre Livros\n",
    "\n",
    "Embora a origem não impacte diretamente o valor da compra total, ela impacta diretamente o valor gerado. Isso ocorre porque existem fontes que realizam uma maior quantidade de vendas do que outras. Portanto, ao multiplicarmos a mediana do valor gasto das compras por origem pela quantidade de compras realizadas nessa origem, pode-se observar que a origem possui influência significativa nas vendas.\n",
    "\n",
    "Assim, após a análise das quatro hipóteses para os livros, podemos observar que o gênero não é estatisticamente relevante para as vendas de livros e que as características mais importantes são, respectivamente, a faixa etária e a origem da compra do usuário, a fim de obter o maior valor total possível em vendas.\n",
    "\n",
    "Neste caso, os melhores grupos para venda são respectivamente, conforme a imgem\n"
   ]
  },
  {
   "cell_type": "markdown",
   "metadata": {},
   "source": [
    "### Análise de hipóteses para eletrônicos"
   ]
  },
  {
   "cell_type": "code",
   "execution_count": 2052,
   "metadata": {},
   "outputs": [],
   "source": [
    "eletronicos_hypothesis = 'Total_Purchase_Amount ~ Gender + Source + age_group'\n",
    "model_eletronicos_hypothesis  = ols(eletronicos_hypothesis, data=compradores_electronics).fit()\n",
    "#Criando um modelo linear para a hipótese"
   ]
  },
  {
   "cell_type": "code",
   "execution_count": 2053,
   "metadata": {},
   "outputs": [],
   "source": [
    "anova_table_eletronicos = sm.stats.anova_lm(model_eletronicos_hypothesis, typ=2)"
   ]
  },
  {
   "cell_type": "code",
   "execution_count": 2054,
   "metadata": {},
   "outputs": [
    {
     "data": {
      "text/html": [
       "<div>\n",
       "<style scoped>\n",
       "    .dataframe tbody tr th:only-of-type {\n",
       "        vertical-align: middle;\n",
       "    }\n",
       "\n",
       "    .dataframe tbody tr th {\n",
       "        vertical-align: top;\n",
       "    }\n",
       "\n",
       "    .dataframe thead th {\n",
       "        text-align: right;\n",
       "    }\n",
       "</style>\n",
       "<table border=\"1\" class=\"dataframe\">\n",
       "  <thead>\n",
       "    <tr style=\"text-align: right;\">\n",
       "      <th></th>\n",
       "      <th>sum_sq</th>\n",
       "      <th>df</th>\n",
       "      <th>F</th>\n",
       "      <th>PR(&gt;F)</th>\n",
       "    </tr>\n",
       "  </thead>\n",
       "  <tbody>\n",
       "    <tr>\n",
       "      <th>Gender</th>\n",
       "      <td>2.428453e+06</td>\n",
       "      <td>1.0</td>\n",
       "      <td>1.175108</td>\n",
       "      <td>2.783593e-01</td>\n",
       "    </tr>\n",
       "    <tr>\n",
       "      <th>Source</th>\n",
       "      <td>4.439902e+06</td>\n",
       "      <td>3.0</td>\n",
       "      <td>0.716144</td>\n",
       "      <td>5.421819e-01</td>\n",
       "    </tr>\n",
       "    <tr>\n",
       "      <th>age_group</th>\n",
       "      <td>3.421858e+08</td>\n",
       "      <td>5.0</td>\n",
       "      <td>33.116167</td>\n",
       "      <td>7.291894e-34</td>\n",
       "    </tr>\n",
       "    <tr>\n",
       "      <th>Residual</th>\n",
       "      <td>1.036906e+11</td>\n",
       "      <td>50175.0</td>\n",
       "      <td>NaN</td>\n",
       "      <td>NaN</td>\n",
       "    </tr>\n",
       "  </tbody>\n",
       "</table>\n",
       "</div>"
      ],
      "text/plain": [
       "                 sum_sq       df          F        PR(>F)\n",
       "Gender     2.428453e+06      1.0   1.175108  2.783593e-01\n",
       "Source     4.439902e+06      3.0   0.716144  5.421819e-01\n",
       "age_group  3.421858e+08      5.0  33.116167  7.291894e-34\n",
       "Residual   1.036906e+11  50175.0        NaN           NaN"
      ]
     },
     "execution_count": 2054,
     "metadata": {},
     "output_type": "execute_result"
    }
   ],
   "source": [
    "anova_table_eletronicos"
   ]
  },
  {
   "cell_type": "code",
   "execution_count": 2055,
   "metadata": {},
   "outputs": [
    {
     "data": {
      "text/html": [
       "<div>\n",
       "<style scoped>\n",
       "    .dataframe tbody tr th:only-of-type {\n",
       "        vertical-align: middle;\n",
       "    }\n",
       "\n",
       "    .dataframe tbody tr th {\n",
       "        vertical-align: top;\n",
       "    }\n",
       "\n",
       "    .dataframe thead th {\n",
       "        text-align: right;\n",
       "    }\n",
       "</style>\n",
       "<table border=\"1\" class=\"dataframe\">\n",
       "  <thead>\n",
       "    <tr style=\"text-align: right;\">\n",
       "      <th></th>\n",
       "      <th>Gender</th>\n",
       "      <th>Total_Purchase_Amount</th>\n",
       "    </tr>\n",
       "  </thead>\n",
       "  <tbody>\n",
       "    <tr>\n",
       "      <th>0</th>\n",
       "      <td>Female</td>\n",
       "      <td>2715.0</td>\n",
       "    </tr>\n",
       "    <tr>\n",
       "      <th>1</th>\n",
       "      <td>Male</td>\n",
       "      <td>2719.0</td>\n",
       "    </tr>\n",
       "  </tbody>\n",
       "</table>\n",
       "</div>"
      ],
      "text/plain": [
       "   Gender  Total_Purchase_Amount\n",
       "0  Female                 2715.0\n",
       "1    Male                 2719.0"
      ]
     },
     "execution_count": 2055,
     "metadata": {},
     "output_type": "execute_result"
    }
   ],
   "source": [
    "compradores_electronics.groupby(['Gender'])['Total_Purchase_Amount'].median().reset_index()"
   ]
  },
  {
   "cell_type": "code",
   "execution_count": 2056,
   "metadata": {},
   "outputs": [
    {
     "data": {
      "text/html": [
       "<div>\n",
       "<style scoped>\n",
       "    .dataframe tbody tr th:only-of-type {\n",
       "        vertical-align: middle;\n",
       "    }\n",
       "\n",
       "    .dataframe tbody tr th {\n",
       "        vertical-align: top;\n",
       "    }\n",
       "\n",
       "    .dataframe thead th {\n",
       "        text-align: right;\n",
       "    }\n",
       "</style>\n",
       "<table border=\"1\" class=\"dataframe\">\n",
       "  <thead>\n",
       "    <tr style=\"text-align: right;\">\n",
       "      <th></th>\n",
       "      <th>Source</th>\n",
       "      <th>Total_Purchase_Amount</th>\n",
       "    </tr>\n",
       "  </thead>\n",
       "  <tbody>\n",
       "    <tr>\n",
       "      <th>0</th>\n",
       "      <td>FaceBook campaign</td>\n",
       "      <td>2719.5</td>\n",
       "    </tr>\n",
       "    <tr>\n",
       "      <th>1</th>\n",
       "      <td>Instagram Campign</td>\n",
       "      <td>2737.0</td>\n",
       "    </tr>\n",
       "    <tr>\n",
       "      <th>2</th>\n",
       "      <td>Organic Search</td>\n",
       "      <td>2689.0</td>\n",
       "    </tr>\n",
       "    <tr>\n",
       "      <th>3</th>\n",
       "      <td>SEM</td>\n",
       "      <td>2713.0</td>\n",
       "    </tr>\n",
       "  </tbody>\n",
       "</table>\n",
       "</div>"
      ],
      "text/plain": [
       "              Source  Total_Purchase_Amount\n",
       "0  FaceBook campaign                 2719.5\n",
       "1  Instagram Campign                 2737.0\n",
       "2     Organic Search                 2689.0\n",
       "3                SEM                 2713.0"
      ]
     },
     "execution_count": 2056,
     "metadata": {},
     "output_type": "execute_result"
    }
   ],
   "source": [
    "compradores_electronics.groupby(['Source'])['Total_Purchase_Amount'].median().reset_index()"
   ]
  },
  {
   "cell_type": "code",
   "execution_count": 2066,
   "metadata": {},
   "outputs": [
    {
     "data": {
      "text/html": [
       "<div>\n",
       "<style scoped>\n",
       "    .dataframe tbody tr th:only-of-type {\n",
       "        vertical-align: middle;\n",
       "    }\n",
       "\n",
       "    .dataframe tbody tr th {\n",
       "        vertical-align: top;\n",
       "    }\n",
       "\n",
       "    .dataframe thead th {\n",
       "        text-align: right;\n",
       "    }\n",
       "</style>\n",
       "<table border=\"1\" class=\"dataframe\">\n",
       "  <thead>\n",
       "    <tr style=\"text-align: right;\">\n",
       "      <th></th>\n",
       "      <th>age_group</th>\n",
       "      <th>Total_Purchase_Amount</th>\n",
       "    </tr>\n",
       "  </thead>\n",
       "  <tbody>\n",
       "    <tr>\n",
       "      <th>0</th>\n",
       "      <td>18-27</td>\n",
       "      <td>2591.0</td>\n",
       "    </tr>\n",
       "    <tr>\n",
       "      <th>1</th>\n",
       "      <td>28-37</td>\n",
       "      <td>2652.0</td>\n",
       "    </tr>\n",
       "    <tr>\n",
       "      <th>2</th>\n",
       "      <td>38-47</td>\n",
       "      <td>2734.0</td>\n",
       "    </tr>\n",
       "    <tr>\n",
       "      <th>3</th>\n",
       "      <td>48-57</td>\n",
       "      <td>2749.5</td>\n",
       "    </tr>\n",
       "    <tr>\n",
       "      <th>4</th>\n",
       "      <td>58-67</td>\n",
       "      <td>2835.0</td>\n",
       "    </tr>\n",
       "    <tr>\n",
       "      <th>5</th>\n",
       "      <td>68+</td>\n",
       "      <td>2817.0</td>\n",
       "    </tr>\n",
       "  </tbody>\n",
       "</table>\n",
       "</div>"
      ],
      "text/plain": [
       "  age_group  Total_Purchase_Amount\n",
       "0     18-27                 2591.0\n",
       "1     28-37                 2652.0\n",
       "2     38-47                 2734.0\n",
       "3     48-57                 2749.5\n",
       "4     58-67                 2835.0\n",
       "5       68+                 2817.0"
      ]
     },
     "execution_count": 2066,
     "metadata": {},
     "output_type": "execute_result"
    }
   ],
   "source": [
    "compradores_electronics.groupby(['age_group'])['Total_Purchase_Amount'].median().reset_index()"
   ]
  },
  {
   "cell_type": "code",
   "execution_count": 2067,
   "metadata": {},
   "outputs": [],
   "source": [
    "eletronicos_agrupados = agrupar_age_groups(compradores_electronics)\n",
    "eletronicos_agrupados['Rate'] = eletronicos_agrupados['Total_Purchase_Amount'] * eletronicos_agrupados['Source_Count']\n",
    "eletronicos_agrupados.drop(columns=['Source_Count','Total_Purchase_Amount'], inplace=True)"
   ]
  },
  {
   "cell_type": "code",
   "execution_count": 2068,
   "metadata": {},
   "outputs": [],
   "source": [
    "#Quarta hipótese\n",
    "eletronicos4_hypothesis = 'Rate ~ Source + age_group'\n",
    "model_eletronicos4_hypothesis  = ols(eletronicos4_hypothesis, data=eletronicos_agrupados).fit()\n",
    "#Criando um modelo linear para a hipótese\n",
    "anova_table_eletronicos4 = sm.stats.anova_lm(model_eletronicos4_hypothesis, typ=2)"
   ]
  },
  {
   "cell_type": "code",
   "execution_count": 2069,
   "metadata": {},
   "outputs": [
    {
     "data": {
      "text/html": [
       "<div>\n",
       "<style scoped>\n",
       "    .dataframe tbody tr th:only-of-type {\n",
       "        vertical-align: middle;\n",
       "    }\n",
       "\n",
       "    .dataframe tbody tr th {\n",
       "        vertical-align: top;\n",
       "    }\n",
       "\n",
       "    .dataframe thead th {\n",
       "        text-align: right;\n",
       "    }\n",
       "</style>\n",
       "<table border=\"1\" class=\"dataframe\">\n",
       "  <thead>\n",
       "    <tr style=\"text-align: right;\">\n",
       "      <th></th>\n",
       "      <th>sum_sq</th>\n",
       "      <th>df</th>\n",
       "      <th>F</th>\n",
       "      <th>PR(&gt;F)</th>\n",
       "    </tr>\n",
       "  </thead>\n",
       "  <tbody>\n",
       "    <tr>\n",
       "      <th>Source</th>\n",
       "      <td>2.043576e+13</td>\n",
       "      <td>3.0</td>\n",
       "      <td>46.961543</td>\n",
       "      <td>7.347980e-08</td>\n",
       "    </tr>\n",
       "    <tr>\n",
       "      <th>age_group</th>\n",
       "      <td>6.417597e+13</td>\n",
       "      <td>5.0</td>\n",
       "      <td>88.486126</td>\n",
       "      <td>1.374210e-10</td>\n",
       "    </tr>\n",
       "    <tr>\n",
       "      <th>Residual</th>\n",
       "      <td>2.175798e+12</td>\n",
       "      <td>15.0</td>\n",
       "      <td>NaN</td>\n",
       "      <td>NaN</td>\n",
       "    </tr>\n",
       "  </tbody>\n",
       "</table>\n",
       "</div>"
      ],
      "text/plain": [
       "                 sum_sq    df          F        PR(>F)\n",
       "Source     2.043576e+13   3.0  46.961543  7.347980e-08\n",
       "age_group  6.417597e+13   5.0  88.486126  1.374210e-10\n",
       "Residual   2.175798e+12  15.0        NaN           NaN"
      ]
     },
     "execution_count": 2069,
     "metadata": {},
     "output_type": "execute_result"
    }
   ],
   "source": [
    "anova_table_eletronicos4"
   ]
  },
  {
   "cell_type": "code",
   "execution_count": 2070,
   "metadata": {},
   "outputs": [],
   "source": [
    "eletronicos_agrupados[['Rate']] = scaler.fit_transform(eletronicos_agrupados[['Rate']])\n",
    "eletronicos_agrupados = eletronicos_agrupados.sort_values(by='Rate', ascending=False)"
   ]
  },
  {
   "cell_type": "code",
   "execution_count": 2071,
   "metadata": {},
   "outputs": [
    {
     "data": {
      "text/html": [
       "<div>\n",
       "<style scoped>\n",
       "    .dataframe tbody tr th:only-of-type {\n",
       "        vertical-align: middle;\n",
       "    }\n",
       "\n",
       "    .dataframe tbody tr th {\n",
       "        vertical-align: top;\n",
       "    }\n",
       "\n",
       "    .dataframe thead th {\n",
       "        text-align: right;\n",
       "    }\n",
       "</style>\n",
       "<table border=\"1\" class=\"dataframe\">\n",
       "  <thead>\n",
       "    <tr style=\"text-align: right;\">\n",
       "      <th></th>\n",
       "      <th>age_group</th>\n",
       "      <th>Source</th>\n",
       "      <th>Rate</th>\n",
       "    </tr>\n",
       "  </thead>\n",
       "  <tbody>\n",
       "    <tr>\n",
       "      <th>1</th>\n",
       "      <td>18-27</td>\n",
       "      <td>Instagram Campign</td>\n",
       "      <td>1.000000</td>\n",
       "    </tr>\n",
       "    <tr>\n",
       "      <th>17</th>\n",
       "      <td>58-67</td>\n",
       "      <td>Instagram Campign</td>\n",
       "      <td>0.972508</td>\n",
       "    </tr>\n",
       "    <tr>\n",
       "      <th>13</th>\n",
       "      <td>48-57</td>\n",
       "      <td>Instagram Campign</td>\n",
       "      <td>0.946990</td>\n",
       "    </tr>\n",
       "    <tr>\n",
       "      <th>9</th>\n",
       "      <td>38-47</td>\n",
       "      <td>Instagram Campign</td>\n",
       "      <td>0.927762</td>\n",
       "    </tr>\n",
       "    <tr>\n",
       "      <th>16</th>\n",
       "      <td>58-67</td>\n",
       "      <td>FaceBook campaign</td>\n",
       "      <td>0.923752</td>\n",
       "    </tr>\n",
       "  </tbody>\n",
       "</table>\n",
       "</div>"
      ],
      "text/plain": [
       "   age_group             Source      Rate\n",
       "1      18-27  Instagram Campign  1.000000\n",
       "17     58-67  Instagram Campign  0.972508\n",
       "13     48-57  Instagram Campign  0.946990\n",
       "9      38-47  Instagram Campign  0.927762\n",
       "16     58-67  FaceBook campaign  0.923752"
      ]
     },
     "execution_count": 2071,
     "metadata": {},
     "output_type": "execute_result"
    }
   ],
   "source": [
    "eletronicos_agrupados.head()"
   ]
  },
  {
   "cell_type": "code",
   "execution_count": 2072,
   "metadata": {},
   "outputs": [
    {
     "data": {
      "image/png": "[encoded data removed]",
      "text/plain": [
       "<Figure size 1400x800 with 1 Axes>"
      ]
     },
     "metadata": {},
     "output_type": "display_data"
    }
   ],
   "source": [
    "# Definir o estilo da visualização\n",
    "sns.set(style=\"whitegrid\")\n",
    "\n",
    "# Criar o gráfico\n",
    "plt.figure(figsize=(14, 8))\n",
    "chart = sns.barplot(\n",
    "    x=\"age_group\", \n",
    "    y=\"Rate\", \n",
    "    hue=\"Source\", \n",
    "    data=eletronicos_agrupados, \n",
    "    palette=\"viridis\"\n",
    ")\n",
    "\n",
    "# Adicionar títulos e rótulos\n",
    "chart.set_title('Rate por grupo etário e origem', fontsize=20)\n",
    "chart.set_xlabel('Grupo Etário', fontsize=15)\n",
    "chart.set_ylabel('Rate', fontsize=15)\n",
    "\n",
    "plt.xticks(rotation=45)\n",
    "plt.show()"
   ]
  },
  {
   "cell_type": "markdown",
   "metadata": {},
   "source": [
    "### Conclusões sobre produtos da categoria de eletronicos\n",
    "\n",
    "Com base na análise da tabela, podemos extrair as seguintes conclusões sobre os produtos da categoria de eletronicos:\n",
    "\n",
    "* **Hipótese 1: Gênero:** O gênero do comprador não influencia significativamente o valor gasto.\n",
    "* **Hipótese 2: Origem da compra:** A origem da compra não demonstra relevância estatística em relação ao valor gasto.\n",
    "* **Hipótese 3: Faixa etária:** A faixa etária do comprador apresenta alta correlação com o valor gasto na compra.\n",
    "* **Hipótese 4: Grupo Ideal:** Existe um grupo ideal para obter o melhor valor possível.\n",
    "\n",
    "## Conclusão final sobre eletronicos\n",
    "\n",
    "Embora a origem não impacte diretamente o valor da compra total, ela impacta diretamente o valor gerado. Isso ocorre porque existem fontes que realizam uma maior quantidade de vendas do que outras. Portanto, ao multiplicarmos a mediana do valor gasto das compras por origem pela quantidade de compras realizadas nessa origem, pode-se observar que a origem possui influência significativa nas vendas.\n",
    "\n",
    "Assim, após a análise das quatro hipóteses para os eletronicos, podemos observar que o gênero não é estatisticamente relevante para as vendas de eletronicos e que as características mais importantes são, respectivamente, a faixa etária e a origem da compra do usuário, a fim de obter o maior valor total possível em vendas.\n",
    "\n",
    "Neste caso, os melhores grupos para venda são respectivamente, conforme a imgem\n"
   ]
  }
 ],
 "metadata": {
  "kernelspec": {
   "display_name": "Python 3",
   "language": "python",
   "name": "python3"
  },
  "language_info": {
   "codemirror_mode": {
    "name": "ipython",
    "version": 3
   },
   "file_extension": ".py",
   "mimetype": "text/x-python",
   "name": "python",
   "nbconvert_exporter": "python",
   "pygments_lexer": "ipython3",
   "version": "3.9.0"
  }
 },
 "nbformat": 4,
 "nbformat_minor": 2
}
