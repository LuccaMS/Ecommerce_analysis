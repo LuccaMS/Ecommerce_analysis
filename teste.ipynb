{
 "cells": [
  {
   "cell_type": "code",
   "execution_count": null,
   "metadata": {},
   "outputs": [],
   "source": [
    "import pandas as pd\n",
    "import statsmodels.api as sm\n",
    "from statsmodels.formula.api import ols\n",
    "import matplotlib.pyplot as plt\n",
    "import seaborn as sns\n",
    "\n",
    "# Carregar os dados\n",
    "df = pd.read_csv('clothing.csv')\n",
    "\n",
    "# Visualizar os dados"
   ]
  },
  {
   "cell_type": "code",
   "execution_count": null,
   "metadata": {},
   "outputs": [],
   "source": [
    "#rename the  Total Purchase Amount  column to Total_Purchase_Amount\n",
    "df = df.rename(columns={'Total Purchase Amount': 'Total_Purchase_Amount'})"
   ]
  },
  {
   "cell_type": "code",
   "execution_count": null,
   "metadata": {},
   "outputs": [],
   "source": [
    "# Preparar os dados para ANOVA\n",
    "# Certificar-se de que as variáveis categóricas estão no formato correto\n",
    "df['age_group'] = df['age_group'].astype('category')\n",
    "df['Gender'] = df['Gender'].astype('category')\n",
    "df['Source'] = df['Source'].astype('category')\n",
    "\n",
    "# Realizar ANOVA para Total Purchase Amount\n",
    "model_purchase_amount = ols('Total_Purchase_Amount ~ age_group + Gender + Source', data=df).fit()\n",
    "anova_table_purchase_amount = sm.stats.anova_lm(model_purchase_amount, typ=2)\n",
    "\n",
    "# Mostrar resultados da ANOVA para Total Purchase Amount\n",
    "print(\"ANOVA para Total Purchase Amount\")\n",
    "print(anova_table_purchase_amount)\n",
    "\n",
    "# Realizar ANOVA para Source_Count\n",
    "model_source_count = ols('Source_Count ~ C(age_group) + C(Gender) + C(Source)', data=df).fit()\n",
    "anova_table_source_count = sm.stats.anova_lm(model_source_count, typ=2)\n",
    "\n",
    "# Mostrar resultados da ANOVA para Source_Count\n",
    "print(\"\\nANOVA para Source_Count\")\n",
    "print(anova_table_source_count)\n",
    "\n",
    "\n",
    "# Plotar os resultados para Total Purchase Amount\n",
    "plt.figure(figsize=(12, 6))\n",
    "sns.boxplot(x='age_group', y='Total_Purchase_Amount', hue='Gender', data=df)\n",
    "plt.title('Distribuição do Total Purchase Amount por Grupo de Idade e Gênero')\n",
    "plt.show()\n",
    "\n",
    "plt.figure(figsize=(12, 6))\n",
    "sns.boxplot(x='Source', y='Total_Purchase_Amount', data=df)\n",
    "plt.title('Distribuição do Total Purchase Amount por Canal (Source)')\n",
    "plt.show()\n",
    "\n",
    "# Plotar os resultados para Source_Count\n",
    "plt.figure(figsize=(12, 6))\n",
    "sns.boxplot(x='age_group', y='Source_Count', hue='Gender', data=df)\n",
    "plt.title('Distribuição do Source Count por Grupo de Idade e Gênero')\n",
    "plt.show()\n",
    "\n",
    "plt.figure(figsize=(12, 6))\n",
    "sns.boxplot(x='Source', y='Source_Count', data=df)\n",
    "plt.title('Distribuição do Source Count por Canal (Source)')\n",
    "plt.show()\n"
   ]
  },
  {
   "cell_type": "code",
   "execution_count": null,
   "metadata": {},
   "outputs": [],
   "source": [
    "model_purchase_amount.summary()"
   ]
  }
 ],
 "metadata": {
  "kernelspec": {
   "display_name": "Python 3",
   "language": "python",
   "name": "python3"
  },
  "language_info": {
   "codemirror_mode": {
    "name": "ipython",
    "version": 3
   },
   "file_extension": ".py",
   "mimetype": "text/x-python",
   "name": "python",
   "nbconvert_exporter": "python",
   "pygments_lexer": "ipython3",
   "version": "3.9.0"
  }
 },
 "nbformat": 4,
 "nbformat_minor": 2
}
